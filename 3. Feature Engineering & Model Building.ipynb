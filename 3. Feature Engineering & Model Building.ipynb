{
 "cells": [
  {
   "cell_type": "markdown",
   "metadata": {},
   "source": [
    "## NYC Taxi Trip Duration Feature Engineering & Model Building\n",
    "Now, that we have seen the Exploration and have a good understanding of data shape and structure. We also looked at firstly the basic models such as decision tree and linear regression and later on ensemble methods such as random forest and XGBoost (Gradient Boosting).\n",
    "\n",
    "But the model is as good as the training data. Can we engineer new features to improve performance? Let's find out"
   ]
  },
  {
   "cell_type": "markdown",
   "metadata": {},
   "source": [
    "## Data Dictionary\n",
    "It is always a good idea to have the data dictionary handy.\n",
    "\n",
    " - **id** - a unique identifier for each trip\n",
    " - **vendor_id** - a code indicating the provider associated with the trip record\n",
    " - **pickup_datetime** - date and time when the meter was engaged\n",
    " - **dropoff_datetime** - date and time when the meter was disengaged\n",
    " - **passenger_count** - the number of passengers in the vehicle (driver entered value)\n",
    " - **pickup_longitude** - the longitude where the meter was engaged\n",
    " - **pickup_latitude** - the latitude where the meter was engaged\n",
    " - **dropoff_longitude** - the longitude where the meter was disengaged\n",
    " - **dropoff_latitude** - the latitude where the meter was disengaged\n",
    " - **store_and_fwd_flag** - This flag indicates whether the trip record was held in vehicle memory before sending to the vendor because the vehicle did not have a connection to the server (Y=store and forward; N=not a store and forward trip)\n",
    " - **trip_duration** - duration of the trip in seconds\n",
    "\n",
    "Here dropoff_datetime and trip_duration are only available for the train set as that represents the target"
   ]
  },
  {
   "cell_type": "markdown",
   "metadata": {},
   "source": [
    "### Load Libraries\n",
    "We will load libraries required to build models and validation sets"
   ]
  },
  {
   "cell_type": "code",
   "execution_count": 27,
   "metadata": {},
   "outputs": [],
   "source": [
    "%matplotlib inline\n",
    "import numpy as np \n",
    "import pandas as pd\n",
    "import datetime as dt\n",
    "import matplotlib.pyplot as plt\n",
    "\n",
    "from sklearn.model_selection import train_test_split\n",
    "\n",
    "import warnings\n",
    "warnings.filterwarnings('ignore')\n",
    "\n",
    "from sklearn.linear_model import LinearRegression \n",
    "from sklearn.tree import DecisionTreeRegressor\n",
    "from sklearn.linear_model import Ridge, Lasso\n",
    "from sklearn.model_selection import KFold\n",
    "from sklearn.neighbors import KNeighborsRegressor\n"
   ]
  },
  {
   "cell_type": "markdown",
   "metadata": {},
   "source": [
    "### Load Data"
   ]
  },
  {
   "cell_type": "code",
   "execution_count": 28,
   "metadata": {},
   "outputs": [],
   "source": [
    "df = pd.read_csv('Dataset/nyc_taxi_trip_duration.csv')"
   ]
  },
  {
   "cell_type": "markdown",
   "metadata": {},
   "source": [
    "## Preprocessing & Feature Extraction\n",
    "As is clear from the previous modules, we can only feed numeric features as input to our models. So our next task is to convert the features in numeric form. It is time to jump into getting our data ready for feeding into the model but before that it is important to use the variables to do some feature engineering as t\n",
    "\n",
    "Some of my ideas to create new variables and the reasons are as follows\n",
    "\n",
    "* Difference between pickup and dropoff latitude - will give an idea about the distance covered which could be predictive\n",
    "* Difference between pickup and dropoff longitude - same reason as above\n",
    "* Haversine distance between pickup and dropoff co-ordinates - to capture the actual distance travelled\n",
    "* Pickup minute - since pickup hour is an important variable, the minute of pickup might well have been predictive\n",
    "* Pickup day of year - same reason as above\n",
    "\n",
    "\n",
    "\n"
   ]
  },
  {
   "cell_type": "markdown",
   "metadata": {},
   "source": [
    "### DateTime Conversion\n",
    "The datetime features from csv files are read as strings and in order to easily extract features like day of week, month, year etc. we need to convert it into datetime format of python."
   ]
  },
  {
   "cell_type": "code",
   "execution_count": 29,
   "metadata": {},
   "outputs": [],
   "source": [
    "# converting strings to datetime features\n",
    "df['pickup_datetime'] = pd.to_datetime(df.pickup_datetime)\n",
    "df['dropoff_datetime'] = pd.to_datetime(df.dropoff_datetime)"
   ]
  },
  {
   "cell_type": "code",
   "execution_count": 30,
   "metadata": {},
   "outputs": [],
   "source": [
    "# Log transform the Y values\n",
    "df_y = np.log1p(df['trip_duration'])\n",
    "\n",
    "# Add some datetime features\n",
    "df.loc[:, 'pickup_weekday'] = df['pickup_datetime'].dt.weekday\n",
    "df.loc[:, 'pickup_hour_weekofyear'] = df['pickup_datetime'].dt.weekofyear\n",
    "df.loc[:, 'pickup_hour'] = df['pickup_datetime'].dt.hour\n",
    "df.loc[:, 'pickup_minute'] = df['pickup_datetime'].dt.minute\n",
    "df.loc[:, 'pickup_dt'] = (df['pickup_datetime'] - df['pickup_datetime'].min()).dt.total_seconds()\n",
    "df.loc[:, 'pickup_week_hour'] = df['pickup_weekday'] * 24 + df['pickup_hour']\n"
   ]
  },
  {
   "cell_type": "markdown",
   "metadata": {},
   "source": [
    "### Distance Features\n",
    "As discussed earlier, distance features must be important and must be included here\n",
    "\n",
    "#### Eucledian Distance\n",
    "Let's Calculate the Eucledian distance between pickup and drop off location to get some idea on how far the pickup and dropoff points are since this would definitely impact the trip duration even though we know that cars can't fly"
   ]
  },
  {
   "cell_type": "code",
   "execution_count": 31,
   "metadata": {},
   "outputs": [],
   "source": [
    "\n",
    "#displacement\n",
    "y_dist= df['pickup_longitude'] - df['dropoff_longitude']\n",
    "x_dist = df['pickup_latitude'] - df['dropoff_latitude']\n",
    "\n",
    "#square distance\n",
    "df['dist_sq'] = (y_dist ** 2) + (x_dist ** 2)\n",
    "\n",
    "#distance\n",
    "df['dist_sqrt'] = df['dist_sq'] ** 0.5\n",
    "\n"
   ]
  },
  {
   "cell_type": "markdown",
   "metadata": {},
   "source": [
    "#### Haversine Distance\n",
    "Let's calculate the distance (km) between pickup and dropoff points. The haversine formula determines the great-circle distance between two points on a sphere given their longitudes and latitudes. We will also calculate the approximate angle at which the dropoff location lies wrt the pickup location. pd.DataFrame.apply() would be too slow so the haversine function is rewritten to handle arrays.\n",
    "\n",
    "<img src=\"Dataset/haversine_dist.svg.png\" width=200 height=200>\n",
    "\n",
    "Haversine direction represents the information of angle of the line connecting the dropoff and pickup point over the surface of earth wrt equator."
   ]
  },
  {
   "cell_type": "code",
   "execution_count": 32,
   "metadata": {},
   "outputs": [],
   "source": [
    "def haversine_array(lat1, lng1, lat2, lng2):\n",
    "    lat1, lng1, lat2, lng2 = map(np.radians, (lat1, lng1, lat2, lng2))\n",
    "    AVG_EARTH_RADIUS = 6371  # in km\n",
    "    lat = lat2 - lat1\n",
    "    lng = lng2 - lng1\n",
    "    d = np.sin(lat * 0.5) ** 2 + np.cos(lat1) * np.cos(lat2) * np.sin(lng * 0.5) ** 2\n",
    "    h = 2 * AVG_EARTH_RADIUS * np.arcsin(np.sqrt(d))\n",
    "    return h\n",
    "\n",
    "def direction_array(lat1, lng1, lat2, lng2):\n",
    "    AVG_EARTH_RADIUS = 6371  # in km\n",
    "    lng_delta_rad = np.radians(lng2 - lng1)\n",
    "    lat1, lng1, lat2, lng2 = map(np.radians, (lat1, lng1, lat2, lng2))\n",
    "    y = np.sin(lng_delta_rad) * np.cos(lat2)\n",
    "    x = np.cos(lat1) * np.sin(lat2) - np.sin(lat1) * np.cos(lat2) * np.cos(lng_delta_rad)\n",
    "    return np.degrees(np.arctan2(y, x))\n",
    "\n",
    "\n",
    "df['haversine_distance'] = haversine_array(df['pickup_latitude'].values, \n",
    "                                                     df['pickup_longitude'].values, \n",
    "                                                     df['dropoff_latitude'].values, \n",
    "                                                     df['dropoff_longitude'].values)\n",
    "\n",
    "\n",
    "df['direction'] = direction_array(df['pickup_latitude'].values, \n",
    "                                          df['pickup_longitude'].values, \n",
    "                                          df['dropoff_latitude'].values, \n",
    "                                          df['dropoff_longitude'].values)\n"
   ]
  },
  {
   "cell_type": "markdown",
   "metadata": {},
   "source": [
    "### Fastest route by road\n",
    "Sometimes, adding external information can be crucial for improving the model. Here we will use data extracted from The Open Source Routing Machine or OSRM for each trip in our original dataset. OSRM is a C++ implementation of a high-performance routing engine for shortest paths in road networks. This will give us a very good estimate of distances between pickup and dropoff Points\n",
    "\n",
    "Source: http://project-osrm.org/"
   ]
  },
  {
   "cell_type": "code",
   "execution_count": 33,
   "metadata": {},
   "outputs": [
    {
     "data": {
      "text/html": [
       "<div>\n",
       "<style scoped>\n",
       "    .dataframe tbody tr th:only-of-type {\n",
       "        vertical-align: middle;\n",
       "    }\n",
       "\n",
       "    .dataframe tbody tr th {\n",
       "        vertical-align: top;\n",
       "    }\n",
       "\n",
       "    .dataframe thead th {\n",
       "        text-align: right;\n",
       "    }\n",
       "</style>\n",
       "<table border=\"1\" class=\"dataframe\">\n",
       "  <thead>\n",
       "    <tr style=\"text-align: right;\">\n",
       "      <th></th>\n",
       "      <th>id</th>\n",
       "      <th>total_distance</th>\n",
       "      <th>total_travel_time</th>\n",
       "    </tr>\n",
       "  </thead>\n",
       "  <tbody>\n",
       "    <tr>\n",
       "      <th>0</th>\n",
       "      <td>id2875421</td>\n",
       "      <td>2009.1</td>\n",
       "      <td>164.9</td>\n",
       "    </tr>\n",
       "    <tr>\n",
       "      <th>1</th>\n",
       "      <td>id2377394</td>\n",
       "      <td>2513.2</td>\n",
       "      <td>332.0</td>\n",
       "    </tr>\n",
       "    <tr>\n",
       "      <th>2</th>\n",
       "      <td>id3504673</td>\n",
       "      <td>1779.4</td>\n",
       "      <td>235.8</td>\n",
       "    </tr>\n",
       "    <tr>\n",
       "      <th>3</th>\n",
       "      <td>id2181028</td>\n",
       "      <td>1614.9</td>\n",
       "      <td>140.1</td>\n",
       "    </tr>\n",
       "    <tr>\n",
       "      <th>4</th>\n",
       "      <td>id0801584</td>\n",
       "      <td>1393.5</td>\n",
       "      <td>189.4</td>\n",
       "    </tr>\n",
       "  </tbody>\n",
       "</table>\n",
       "</div>"
      ],
      "text/plain": [
       "          id  total_distance  total_travel_time\n",
       "0  id2875421          2009.1              164.9\n",
       "1  id2377394          2513.2              332.0\n",
       "2  id3504673          1779.4              235.8\n",
       "3  id2181028          1614.9              140.1\n",
       "4  id0801584          1393.5              189.4"
      ]
     },
     "execution_count": 33,
     "metadata": {},
     "output_type": "execute_result"
    }
   ],
   "source": [
    "fr1 = pd.read_csv('Dataset/osrm/fastest_routes_train_part_1.zip',\n",
    "                  usecols=['id', 'total_distance', 'total_travel_time'])\n",
    "fr2 = pd.read_csv('Dataset/osrm/fastest_routes_train_part_2.zip',\n",
    "                  usecols=['id', 'total_distance', 'total_travel_time'])\n",
    "\n",
    "df_street_info = pd.concat((fr1, fr2))\n",
    "df = df.merge(df_street_info, how='left', on='id')\n",
    "\n",
    "df_street_info.head()"
   ]
  },
  {
   "cell_type": "markdown",
   "metadata": {},
   "source": [
    "### Binning\n",
    "The lattitude and longitude could be a bit noisy and it might be a good idea to bin them and create new features after rounding their values."
   ]
  },
  {
   "cell_type": "code",
   "execution_count": 34,
   "metadata": {},
   "outputs": [],
   "source": [
    "### Binned Coordinates ###\n",
    "df['pickup_latitude_round3'] = np.round(df['pickup_latitude'],3)\n",
    "df['pickup_longitude_round3'] = np.round(df['pickup_longitude'],3)\n",
    "\n",
    "df['dropoff_latitude_round3'] = np.round(df['dropoff_latitude'],3)\n",
    "df['dropoff_longitude_round3'] = np.round(df['dropoff_longitude'],3)"
   ]
  },
  {
   "cell_type": "markdown",
   "metadata": {},
   "source": [
    "### Other Features"
   ]
  },
  {
   "cell_type": "markdown",
   "metadata": {},
   "source": [
    "#### One Hot Encoding\n",
    "Here, Vendor ID can be converted to one hot encoding or frequency encoding since in the raw data it has values 1 and 2 without any inherent order. "
   ]
  },
  {
   "cell_type": "code",
   "execution_count": 35,
   "metadata": {},
   "outputs": [
    {
     "data": {
      "text/plain": [
       "2    390481\n",
       "1    338841\n",
       "Name: vendor_id, dtype: int64"
      ]
     },
     "execution_count": 35,
     "metadata": {},
     "output_type": "execute_result"
    }
   ],
   "source": [
    "df.vendor_id.value_counts()"
   ]
  },
  {
   "cell_type": "markdown",
   "metadata": {},
   "source": [
    "Now, there is not much difference in the frequencies of both and that might not make for an important feature. so we will just convert it to 0 and 1 by subtracting 1 from it"
   ]
  },
  {
   "cell_type": "code",
   "execution_count": 36,
   "metadata": {},
   "outputs": [],
   "source": [
    "df['vendor_id'] = df['vendor_id'] - 1"
   ]
  },
  {
   "cell_type": "code",
   "execution_count": 37,
   "metadata": {},
   "outputs": [
    {
     "data": {
      "text/plain": [
       "id                          0\n",
       "vendor_id                   0\n",
       "pickup_datetime             0\n",
       "dropoff_datetime            0\n",
       "passenger_count             0\n",
       "pickup_longitude            0\n",
       "pickup_latitude             0\n",
       "dropoff_longitude           0\n",
       "dropoff_latitude            0\n",
       "store_and_fwd_flag          0\n",
       "trip_duration               0\n",
       "pickup_weekday              0\n",
       "pickup_hour_weekofyear      0\n",
       "pickup_hour                 0\n",
       "pickup_minute               0\n",
       "pickup_dt                   0\n",
       "pickup_week_hour            0\n",
       "dist_sq                     0\n",
       "dist_sqrt                   0\n",
       "haversine_distance          0\n",
       "direction                   0\n",
       "total_distance              1\n",
       "total_travel_time           1\n",
       "pickup_latitude_round3      0\n",
       "pickup_longitude_round3     0\n",
       "dropoff_latitude_round3     0\n",
       "dropoff_longitude_round3    0\n",
       "dtype: int64"
      ]
     },
     "execution_count": 37,
     "metadata": {},
     "output_type": "execute_result"
    }
   ],
   "source": [
    "np.sum(pd.isnull(df))"
   ]
  },
  {
   "cell_type": "code",
   "execution_count": 38,
   "metadata": {},
   "outputs": [],
   "source": [
    "# For a route, the total distance and travel time are not available. Let's impute that with 0\n",
    "df.fillna(0, inplace = True)"
   ]
  },
  {
   "cell_type": "markdown",
   "metadata": {},
   "source": [
    "Before we go on to build a model, we must drop the variables that should not be fed as features to the algorithms. We will drop\n",
    "* id - Uniquely represents a sample in the train set\n",
    "* pickup_datetime - Since we have extracted the datetime features, there is no need to keep the datetime column\n",
    "* dropoff_datetime - If this is used to create features, it would be a leakage and we will get perfect model performance. Why? The time gap between dropoff_datetime and pickup_datetime is essentially what we are trying to predict\n",
    "* trip_duration - This is the target variable so needs to be dropped\n",
    "* store_and_fwd_flag - This variable is not available before the start of the trip and should not be used for modelling."
   ]
  },
  {
   "cell_type": "code",
   "execution_count": 39,
   "metadata": {},
   "outputs": [],
   "source": [
    "df = df.drop(['id', 'pickup_datetime', 'dropoff_datetime', 'trip_duration','store_and_fwd_flag'], axis=1)"
   ]
  },
  {
   "cell_type": "markdown",
   "metadata": {},
   "source": [
    "## Model Building"
   ]
  },
  {
   "cell_type": "markdown",
   "metadata": {},
   "source": [
    "Now, before we go on to build the model, let us look at the dataset."
   ]
  },
  {
   "cell_type": "code",
   "execution_count": 40,
   "metadata": {},
   "outputs": [
    {
     "data": {
      "text/html": [
       "<div>\n",
       "<style scoped>\n",
       "    .dataframe tbody tr th:only-of-type {\n",
       "        vertical-align: middle;\n",
       "    }\n",
       "\n",
       "    .dataframe tbody tr th {\n",
       "        vertical-align: top;\n",
       "    }\n",
       "\n",
       "    .dataframe thead th {\n",
       "        text-align: right;\n",
       "    }\n",
       "</style>\n",
       "<table border=\"1\" class=\"dataframe\">\n",
       "  <thead>\n",
       "    <tr style=\"text-align: right;\">\n",
       "      <th></th>\n",
       "      <th>vendor_id</th>\n",
       "      <th>passenger_count</th>\n",
       "      <th>pickup_longitude</th>\n",
       "      <th>pickup_latitude</th>\n",
       "      <th>dropoff_longitude</th>\n",
       "      <th>dropoff_latitude</th>\n",
       "      <th>pickup_weekday</th>\n",
       "      <th>pickup_hour_weekofyear</th>\n",
       "      <th>pickup_hour</th>\n",
       "      <th>pickup_minute</th>\n",
       "      <th>...</th>\n",
       "      <th>dist_sq</th>\n",
       "      <th>dist_sqrt</th>\n",
       "      <th>haversine_distance</th>\n",
       "      <th>direction</th>\n",
       "      <th>total_distance</th>\n",
       "      <th>total_travel_time</th>\n",
       "      <th>pickup_latitude_round3</th>\n",
       "      <th>pickup_longitude_round3</th>\n",
       "      <th>dropoff_latitude_round3</th>\n",
       "      <th>dropoff_longitude_round3</th>\n",
       "    </tr>\n",
       "  </thead>\n",
       "  <tbody>\n",
       "    <tr>\n",
       "      <th>0</th>\n",
       "      <td>1</td>\n",
       "      <td>1</td>\n",
       "      <td>-73.953918</td>\n",
       "      <td>40.778873</td>\n",
       "      <td>-73.963875</td>\n",
       "      <td>40.771164</td>\n",
       "      <td>0</td>\n",
       "      <td>9</td>\n",
       "      <td>16</td>\n",
       "      <td>40</td>\n",
       "      <td>...</td>\n",
       "      <td>0.000159</td>\n",
       "      <td>0.012592</td>\n",
       "      <td>1.199073</td>\n",
       "      <td>-135.634530</td>\n",
       "      <td>1630.9</td>\n",
       "      <td>172.5</td>\n",
       "      <td>40.779</td>\n",
       "      <td>-73.954</td>\n",
       "      <td>40.771</td>\n",
       "      <td>-73.964</td>\n",
       "    </tr>\n",
       "    <tr>\n",
       "      <th>1</th>\n",
       "      <td>0</td>\n",
       "      <td>2</td>\n",
       "      <td>-73.988312</td>\n",
       "      <td>40.731743</td>\n",
       "      <td>-73.994751</td>\n",
       "      <td>40.694931</td>\n",
       "      <td>4</td>\n",
       "      <td>10</td>\n",
       "      <td>23</td>\n",
       "      <td>35</td>\n",
       "      <td>...</td>\n",
       "      <td>0.001397</td>\n",
       "      <td>0.037371</td>\n",
       "      <td>4.129111</td>\n",
       "      <td>-172.445217</td>\n",
       "      <td>5428.7</td>\n",
       "      <td>581.8</td>\n",
       "      <td>40.732</td>\n",
       "      <td>-73.988</td>\n",
       "      <td>40.695</td>\n",
       "      <td>-73.995</td>\n",
       "    </tr>\n",
       "    <tr>\n",
       "      <th>2</th>\n",
       "      <td>1</td>\n",
       "      <td>2</td>\n",
       "      <td>-73.997314</td>\n",
       "      <td>40.721458</td>\n",
       "      <td>-73.948029</td>\n",
       "      <td>40.774918</td>\n",
       "      <td>6</td>\n",
       "      <td>7</td>\n",
       "      <td>17</td>\n",
       "      <td>59</td>\n",
       "      <td>...</td>\n",
       "      <td>0.005287</td>\n",
       "      <td>0.072712</td>\n",
       "      <td>7.250753</td>\n",
       "      <td>34.916093</td>\n",
       "      <td>9327.8</td>\n",
       "      <td>748.9</td>\n",
       "      <td>40.721</td>\n",
       "      <td>-73.997</td>\n",
       "      <td>40.775</td>\n",
       "      <td>-73.948</td>\n",
       "    </tr>\n",
       "    <tr>\n",
       "      <th>3</th>\n",
       "      <td>1</td>\n",
       "      <td>6</td>\n",
       "      <td>-73.961670</td>\n",
       "      <td>40.759720</td>\n",
       "      <td>-73.956779</td>\n",
       "      <td>40.780628</td>\n",
       "      <td>1</td>\n",
       "      <td>1</td>\n",
       "      <td>9</td>\n",
       "      <td>44</td>\n",
       "      <td>...</td>\n",
       "      <td>0.000461</td>\n",
       "      <td>0.021473</td>\n",
       "      <td>2.361097</td>\n",
       "      <td>10.043567</td>\n",
       "      <td>8022.7</td>\n",
       "      <td>612.2</td>\n",
       "      <td>40.760</td>\n",
       "      <td>-73.962</td>\n",
       "      <td>40.781</td>\n",
       "      <td>-73.957</td>\n",
       "    </tr>\n",
       "    <tr>\n",
       "      <th>4</th>\n",
       "      <td>0</td>\n",
       "      <td>1</td>\n",
       "      <td>-74.017120</td>\n",
       "      <td>40.708469</td>\n",
       "      <td>-73.988182</td>\n",
       "      <td>40.740631</td>\n",
       "      <td>2</td>\n",
       "      <td>7</td>\n",
       "      <td>6</td>\n",
       "      <td>42</td>\n",
       "      <td>...</td>\n",
       "      <td>0.001872</td>\n",
       "      <td>0.043264</td>\n",
       "      <td>4.328534</td>\n",
       "      <td>34.280582</td>\n",
       "      <td>5468.7</td>\n",
       "      <td>645.0</td>\n",
       "      <td>40.708</td>\n",
       "      <td>-74.017</td>\n",
       "      <td>40.741</td>\n",
       "      <td>-73.988</td>\n",
       "    </tr>\n",
       "  </tbody>\n",
       "</table>\n",
       "<p>5 rows × 22 columns</p>\n",
       "</div>"
      ],
      "text/plain": [
       "   vendor_id  passenger_count  pickup_longitude  pickup_latitude  \\\n",
       "0          1                1        -73.953918        40.778873   \n",
       "1          0                2        -73.988312        40.731743   \n",
       "2          1                2        -73.997314        40.721458   \n",
       "3          1                6        -73.961670        40.759720   \n",
       "4          0                1        -74.017120        40.708469   \n",
       "\n",
       "   dropoff_longitude  dropoff_latitude  pickup_weekday  \\\n",
       "0         -73.963875         40.771164               0   \n",
       "1         -73.994751         40.694931               4   \n",
       "2         -73.948029         40.774918               6   \n",
       "3         -73.956779         40.780628               1   \n",
       "4         -73.988182         40.740631               2   \n",
       "\n",
       "   pickup_hour_weekofyear  pickup_hour  pickup_minute  ...   dist_sq  \\\n",
       "0                       9           16             40  ...  0.000159   \n",
       "1                      10           23             35  ...  0.001397   \n",
       "2                       7           17             59  ...  0.005287   \n",
       "3                       1            9             44  ...  0.000461   \n",
       "4                       7            6             42  ...  0.001872   \n",
       "\n",
       "   dist_sqrt  haversine_distance   direction  total_distance  \\\n",
       "0   0.012592            1.199073 -135.634530          1630.9   \n",
       "1   0.037371            4.129111 -172.445217          5428.7   \n",
       "2   0.072712            7.250753   34.916093          9327.8   \n",
       "3   0.021473            2.361097   10.043567          8022.7   \n",
       "4   0.043264            4.328534   34.280582          5468.7   \n",
       "\n",
       "   total_travel_time  pickup_latitude_round3  pickup_longitude_round3  \\\n",
       "0              172.5                  40.779                  -73.954   \n",
       "1              581.8                  40.732                  -73.988   \n",
       "2              748.9                  40.721                  -73.997   \n",
       "3              612.2                  40.760                  -73.962   \n",
       "4              645.0                  40.708                  -74.017   \n",
       "\n",
       "   dropoff_latitude_round3  dropoff_longitude_round3  \n",
       "0                   40.771                   -73.964  \n",
       "1                   40.695                   -73.995  \n",
       "2                   40.775                   -73.948  \n",
       "3                   40.781                   -73.957  \n",
       "4                   40.741                   -73.988  \n",
       "\n",
       "[5 rows x 22 columns]"
      ]
     },
     "execution_count": 40,
     "metadata": {},
     "output_type": "execute_result"
    }
   ],
   "source": [
    "df.head()"
   ]
  },
  {
   "cell_type": "markdown",
   "metadata": {},
   "source": [
    "We have all numerical data types in our dataset now. Time to delve into model building. A very simple baseline could just be the mean of the values in the train set. Let's check the performance on that."
   ]
  },
  {
   "cell_type": "markdown",
   "metadata": {},
   "source": [
    "### Defining Metric"
   ]
  },
  {
   "cell_type": "code",
   "execution_count": 41,
   "metadata": {},
   "outputs": [],
   "source": [
    "from sklearn.metrics import mean_squared_error\n",
    "from math import sqrt"
   ]
  },
  {
   "cell_type": "markdown",
   "metadata": {},
   "source": [
    "### Test Train Split\n",
    "\n",
    "We have all numbers in our dataset now. Time to delve into model building. But before that, we need to finalise a validation strategy to create the train and test sets. Here, we will do a random split and keep one third of the data in test set and remaining two third of data in the train set"
   ]
  },
  {
   "cell_type": "code",
   "execution_count": 42,
   "metadata": {},
   "outputs": [],
   "source": [
    "#Splitting the data into Train and Validation set\n",
    "from sklearn.model_selection import train_test_split \n",
    "xtrain, xtest, ytrain, ytest = train_test_split(df,df_y,test_size=1/3, random_state=0)"
   ]
  },
  {
   "cell_type": "markdown",
   "metadata": {},
   "source": [
    "### Mean Prediction\n",
    "Before we go on to try any machine learning model, let us look at the performance of a basic model that just says the mean of trip duration in the train set is the prediction for all the trips in the test set."
   ]
  },
  {
   "cell_type": "code",
   "execution_count": 43,
   "metadata": {},
   "outputs": [
    {
     "data": {
      "text/plain": [
       "0.7986672307875061"
      ]
     },
     "execution_count": 43,
     "metadata": {},
     "output_type": "execute_result"
    }
   ],
   "source": [
    "mean_pred = np.repeat(ytrain.mean(),len(ytest))\n",
    "\n",
    "sqrt(mean_squared_error(ytest, mean_pred))"
   ]
  },
  {
   "cell_type": "markdown",
   "metadata": {},
   "source": [
    "### Cross validation\n",
    "Cross Validation is one of the most important concepts in any type of data modelling. It simply says, try to leave a sample on which you do not train the model and test the model on this sample before finalizing the model.\n",
    "\n",
    "we divide the entire population into k equal samples. Now we train models on k-1 samples and validate on 1 sample. Then, at the second iteration we train the model with a different sample held as validation. \n",
    "\n",
    "In k iterations, we have basically built model on each sample and held each of them as validation. This is a way to reduce the selection bias and reduce the variance in prediction power."
   ]
  },
  {
   "cell_type": "code",
   "execution_count": 44,
   "metadata": {},
   "outputs": [],
   "source": [
    "def cv_score(ml_model, rstate = 11,cols = df.columns):\n",
    "    i = 1\n",
    "    cv_scores = []\n",
    "    df1 = df.copy()\n",
    "    df1 = df[cols]\n",
    "    \n",
    "    kf = KFold(n_splits=5,random_state=rstate,shuffle=True)\n",
    "    for train_index,test_index in kf.split(df1,df_y):\n",
    "        print('\\n{} of kfold {}'.format(i,kf.n_splits))\n",
    "        xtr,xvl = df1.loc[train_index],df1.loc[test_index]\n",
    "        ytr,yvl = df_y[train_index],df_y[test_index]\n",
    "\n",
    "        model = ml_model\n",
    "        model.fit(xtr, ytr)\n",
    "        train_val = model.predict(xtr)\n",
    "        pred_val = model.predict(xvl)\n",
    "        rmse_score_train = sqrt(mean_squared_error(ytr, train_val))\n",
    "        rmse_score = sqrt(mean_squared_error(yvl, pred_val))\n",
    "        sufix = \"\"\n",
    "        msg = \"\"\n",
    "        #msg += \"Train RMSE: {:.5f} \".format(rmse_score_train)\n",
    "        msg += \"Valid RMSE: {:.5f}\".format(rmse_score)\n",
    "        print(\"{}\".format(msg))\n",
    "        # Save scores\n",
    "        cv_scores.append(rmse_score)\n",
    "        i+=1\n",
    "    return cv_scores"
   ]
  },
  {
   "cell_type": "markdown",
   "metadata": {},
   "source": [
    "### Linear Regression\n",
    "Lets begin by using the simplest regression algorithm Linear regression to check the performance."
   ]
  },
  {
   "cell_type": "code",
   "execution_count": 45,
   "metadata": {},
   "outputs": [
    {
     "name": "stdout",
     "output_type": "stream",
     "text": [
      "\n",
      "1 of kfold 5\n",
      "Valid RMSE: 0.54881\n",
      "\n",
      "2 of kfold 5\n",
      "Valid RMSE: 0.54975\n",
      "\n",
      "3 of kfold 5\n",
      "Valid RMSE: 0.54520\n",
      "\n",
      "4 of kfold 5\n",
      "Valid RMSE: 0.56114\n",
      "\n",
      "5 of kfold 5\n",
      "Valid RMSE: 0.54677\n"
     ]
    }
   ],
   "source": [
    "linreg_scores = cv_score(LinearRegression())"
   ]
  },
  {
   "cell_type": "markdown",
   "metadata": {},
   "source": [
    "We can already see that the performance of even linear regression has improved a lot. This demonstrates the power of feature engineering. Let's try decision tree once more and check performance"
   ]
  },
  {
   "cell_type": "markdown",
   "metadata": {},
   "source": [
    "### Decision Tree"
   ]
  },
  {
   "cell_type": "code",
   "execution_count": 46,
   "metadata": {},
   "outputs": [
    {
     "name": "stdout",
     "output_type": "stream",
     "text": [
      "\n",
      "1 of kfold 5\n",
      "Valid RMSE: 0.42681\n",
      "\n",
      "2 of kfold 5\n",
      "Valid RMSE: 0.42942\n",
      "\n",
      "3 of kfold 5\n",
      "Valid RMSE: 0.41976\n",
      "\n",
      "4 of kfold 5\n",
      "Valid RMSE: 0.42662\n",
      "\n",
      "5 of kfold 5\n",
      "Valid RMSE: 0.42161\n"
     ]
    }
   ],
   "source": [
    "dtree_scores = cv_score(DecisionTreeRegressor(min_samples_leaf=25, min_samples_split=25))"
   ]
  },
  {
   "cell_type": "code",
   "execution_count": 47,
   "metadata": {},
   "outputs": [],
   "source": [
    "results_df = pd.DataFrame({'linear_regression':linreg_scores, 'dtree': dtree_scores})"
   ]
  },
  {
   "cell_type": "code",
   "execution_count": 48,
   "metadata": {},
   "outputs": [
    {
     "data": {
      "image/png": "[encoded data removed]",
      "text/plain": [
       "<Figure size 640x480 with 1 Axes>"
      ]
     },
     "metadata": {},
     "output_type": "display_data"
    }
   ],
   "source": [
    "results_df.plot(y=[\"linear_regression\", \"dtree\"], kind=\"bar\", legend=False)\n",
    "plt.legend(bbox_to_anchor=(1.05, 1), loc=2, borderaxespad=0.)\n",
    "plt.show()"
   ]
  },
  {
   "cell_type": "markdown",
   "metadata": {},
   "source": [
    "Woah! That's a lot of improvement. The reason for this could be the non linear relationship between the trip duration values and the location coordinates of pickup and dropoff points.\n",
    "\n",
    "<img src=\"Dataset/download_dow.png\" width=500 height=500>"
   ]
  },
  {
   "cell_type": "markdown",
   "metadata": {},
   "source": [
    "### Decision Tree Visualization"
   ]
  },
  {
   "cell_type": "code",
   "execution_count": 49,
   "metadata": {},
   "outputs": [],
   "source": [
    "from sklearn import tree"
   ]
  },
  {
   "cell_type": "code",
   "execution_count": 50,
   "metadata": {},
   "outputs": [
    {
     "data": {
      "text/html": [
       "<style>#sk-container-id-1 {color: black;background-color: white;}#sk-container-id-1 pre{padding: 0;}#sk-container-id-1 div.sk-toggleable {background-color: white;}#sk-container-id-1 label.sk-toggleable__label {cursor: pointer;display: block;width: 100%;margin-bottom: 0;padding: 0.3em;box-sizing: border-box;text-align: center;}#sk-container-id-1 label.sk-toggleable__label-arrow:before {content: \"▸\";float: left;margin-right: 0.25em;color: #696969;}#sk-container-id-1 label.sk-toggleable__label-arrow:hover:before {color: black;}#sk-container-id-1 div.sk-estimator:hover label.sk-toggleable__label-arrow:before {color: black;}#sk-container-id-1 div.sk-toggleable__content {max-height: 0;max-width: 0;overflow: hidden;text-align: left;background-color: #f0f8ff;}#sk-container-id-1 div.sk-toggleable__content pre {margin: 0.2em;color: black;border-radius: 0.25em;background-color: #f0f8ff;}#sk-container-id-1 input.sk-toggleable__control:checked~div.sk-toggleable__content {max-height: 200px;max-width: 100%;overflow: auto;}#sk-container-id-1 input.sk-toggleable__control:checked~label.sk-toggleable__label-arrow:before {content: \"▾\";}#sk-container-id-1 div.sk-estimator input.sk-toggleable__control:checked~label.sk-toggleable__label {background-color: #d4ebff;}#sk-container-id-1 div.sk-label input.sk-toggleable__control:checked~label.sk-toggleable__label {background-color: #d4ebff;}#sk-container-id-1 input.sk-hidden--visually {border: 0;clip: rect(1px 1px 1px 1px);clip: rect(1px, 1px, 1px, 1px);height: 1px;margin: -1px;overflow: hidden;padding: 0;position: absolute;width: 1px;}#sk-container-id-1 div.sk-estimator {font-family: monospace;background-color: #f0f8ff;border: 1px dotted black;border-radius: 0.25em;box-sizing: border-box;margin-bottom: 0.5em;}#sk-container-id-1 div.sk-estimator:hover {background-color: #d4ebff;}#sk-container-id-1 div.sk-parallel-item::after {content: \"\";width: 100%;border-bottom: 1px solid gray;flex-grow: 1;}#sk-container-id-1 div.sk-label:hover label.sk-toggleable__label {background-color: #d4ebff;}#sk-container-id-1 div.sk-serial::before {content: \"\";position: absolute;border-left: 1px solid gray;box-sizing: border-box;top: 0;bottom: 0;left: 50%;z-index: 0;}#sk-container-id-1 div.sk-serial {display: flex;flex-direction: column;align-items: center;background-color: white;padding-right: 0.2em;padding-left: 0.2em;position: relative;}#sk-container-id-1 div.sk-item {position: relative;z-index: 1;}#sk-container-id-1 div.sk-parallel {display: flex;align-items: stretch;justify-content: center;background-color: white;position: relative;}#sk-container-id-1 div.sk-item::before, #sk-container-id-1 div.sk-parallel-item::before {content: \"\";position: absolute;border-left: 1px solid gray;box-sizing: border-box;top: 0;bottom: 0;left: 50%;z-index: -1;}#sk-container-id-1 div.sk-parallel-item {display: flex;flex-direction: column;z-index: 1;position: relative;background-color: white;}#sk-container-id-1 div.sk-parallel-item:first-child::after {align-self: flex-end;width: 50%;}#sk-container-id-1 div.sk-parallel-item:last-child::after {align-self: flex-start;width: 50%;}#sk-container-id-1 div.sk-parallel-item:only-child::after {width: 0;}#sk-container-id-1 div.sk-dashed-wrapped {border: 1px dashed gray;margin: 0 0.4em 0.5em 0.4em;box-sizing: border-box;padding-bottom: 0.4em;background-color: white;}#sk-container-id-1 div.sk-label label {font-family: monospace;font-weight: bold;display: inline-block;line-height: 1.2em;}#sk-container-id-1 div.sk-label-container {text-align: center;}#sk-container-id-1 div.sk-container {/* jupyter's `normalize.less` sets `[hidden] { display: none; }` but bootstrap.min.css set `[hidden] { display: none !important; }` so we also need the `!important` here to be able to override the default hidden behavior on the sphinx rendered scikit-learn.org. See: https://github.com/scikit-learn/scikit-learn/issues/21755 */display: inline-block !important;position: relative;}#sk-container-id-1 div.sk-text-repr-fallback {display: none;}</style><div id=\"sk-container-id-1\" class=\"sk-top-container\"><div class=\"sk-text-repr-fallback\"><pre>DecisionTreeRegressor(min_samples_leaf=25, min_samples_split=25)</pre><b>In a Jupyter environment, please rerun this cell to show the HTML representation or trust the notebook. <br />On GitHub, the HTML representation is unable to render, please try loading this page with nbviewer.org.</b></div><div class=\"sk-container\" hidden><div class=\"sk-item\"><div class=\"sk-estimator sk-toggleable\"><input class=\"sk-toggleable__control sk-hidden--visually\" id=\"sk-estimator-id-1\" type=\"checkbox\" checked><label for=\"sk-estimator-id-1\" class=\"sk-toggleable__label sk-toggleable__label-arrow\">DecisionTreeRegressor</label><div class=\"sk-toggleable__content\"><pre>DecisionTreeRegressor(min_samples_leaf=25, min_samples_split=25)</pre></div></div></div></div></div>"
      ],
      "text/plain": [
       "DecisionTreeRegressor(min_samples_leaf=25, min_samples_split=25)"
      ]
     },
     "execution_count": 50,
     "metadata": {},
     "output_type": "execute_result"
    }
   ],
   "source": [
    "dtree = DecisionTreeRegressor(min_samples_leaf=25, min_samples_split=25)\n",
    "dtree.fit(xtrain, ytrain)"
   ]
  },
  {
   "cell_type": "code",
   "execution_count": 51,
   "metadata": {},
   "outputs": [
    {
     "data": {
      "image/png": "[encoded data removed]",
      "text/plain": [
       "<Figure size 640x480 with 1 Axes>"
      ]
     },
     "metadata": {},
     "output_type": "display_data"
    }
   ],
   "source": [
    "tree.plot_tree(dtree, feature_names=xtrain.columns, filled = True, max_depth=2);"
   ]
  },
  {
   "cell_type": "code",
   "execution_count": 49,
   "metadata": {},
   "outputs": [],
   "source": [
    "decision_tree = tree.export_graphviz(dtree,out_file='tree.dot',feature_names=xtrain.columns,max_depth=2,filled=True)\n",
    "!dot -Tpng tree.dot -o tree.png"
   ]
  },
  {
   "cell_type": "markdown",
   "metadata": {},
   "source": [
    "Now, let us view the decision tree till depth 2 and find out the features at the root and the first node.\n",
    "\n",
    "<img src=\"Dataset/tree.png\" width=500 height=500>\n",
    "\n",
    "As is clear from the above decision tree the extra features added are adding a lot of value to our decision tree learning indicating that the additional features carry good value and are very important to the model."
   ]
  },
  {
   "cell_type": "markdown",
   "metadata": {},
   "source": [
    "Looking at this, seems like a good idea to try more advanced decision tree based techniques which we will look at in the next section."
   ]
  }
 ],
 "metadata": {
  "kernelspec": {
   "display_name": "Python 3 (ipykernel)",
   "language": "python",
   "name": "python3"
  },
  "language_info": {
   "codemirror_mode": {
    "name": "ipython",
    "version": 3
   },
   "file_extension": ".py",
   "mimetype": "text/x-python",
   "name": "python",
   "nbconvert_exporter": "python",
   "pygments_lexer": "ipython3",
   "version": "3.11.1"
  }
 },
 "nbformat": 4,
 "nbformat_minor": 2
}
