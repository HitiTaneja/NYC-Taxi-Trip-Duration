{
 "cells": [
  {
   "cell_type": "markdown",
   "id": "2e331f56",
   "metadata": {},
   "source": [
    "### NYC Trip Duration - Model Building\n",
    "\n",
    "After completing the EDA, in this notebook, we are going to build a simple Linear Regression Model by importing the required dataset. Then, if any missing values are present, we will impute them and deal with outlier values. We will preprocess the data before being used by the model. The model will then be evaluated using the Mean Absolute Error metric.\n",
    "\n",
    "Author: Hiti Taneja"
   ]
  },
  {
   "cell_type": "markdown",
   "id": "5ddf7c9f",
   "metadata": {},
   "source": [
    "### Importing Libraries"
   ]
  },
  {
   "cell_type": "code",
   "execution_count": 1,
   "id": "df8083df",
   "metadata": {},
   "outputs": [],
   "source": [
    "# data processing\n",
    "import pandas as pd \n",
    "import numpy as np\n",
    "\n",
    "# data visualization\n",
    "import seaborn as sns\n",
    "import matplotlib.pyplot as plt\n",
    "%matplotlib inline\n",
    "\n",
    "# To calculate the distance based on longitude and latitude values\n",
    "from geopy.distance import great_circle "
   ]
  },
  {
   "cell_type": "code",
   "execution_count": 2,
   "id": "87c662f3",
   "metadata": {},
   "outputs": [],
   "source": [
    "# Options for setting pandas dataframe behavior\n",
    "pd.set_option('display.max_columns', 150)\n",
    "pd.set_option('display.max_rows', 100)\n",
    "pd.set_option('display.max_colwidth', 250)"
   ]
  },
  {
   "cell_type": "code",
   "execution_count": 3,
   "id": "26d43dab",
   "metadata": {},
   "outputs": [],
   "source": [
    "# Options for setting Seaborn behavior\n",
    "sns.set_theme(style=\"darkgrid\", palette=\"husl\")"
   ]
  },
  {
   "cell_type": "markdown",
   "id": "59d86bb5",
   "metadata": {},
   "source": [
    "### Import Dataset"
   ]
  },
  {
   "cell_type": "code",
   "execution_count": 4,
   "id": "3534967d",
   "metadata": {
    "scrolled": false
   },
   "outputs": [
    {
     "data": {
      "text/html": [
       "<div>\n",
       "<style scoped>\n",
       "    .dataframe tbody tr th:only-of-type {\n",
       "        vertical-align: middle;\n",
       "    }\n",
       "\n",
       "    .dataframe tbody tr th {\n",
       "        vertical-align: top;\n",
       "    }\n",
       "\n",
       "    .dataframe thead th {\n",
       "        text-align: right;\n",
       "    }\n",
       "</style>\n",
       "<table border=\"1\" class=\"dataframe\">\n",
       "  <thead>\n",
       "    <tr style=\"text-align: right;\">\n",
       "      <th></th>\n",
       "      <th>id</th>\n",
       "      <th>vendor_id</th>\n",
       "      <th>pickup_datetime</th>\n",
       "      <th>dropoff_datetime</th>\n",
       "      <th>passenger_count</th>\n",
       "      <th>pickup_longitude</th>\n",
       "      <th>pickup_latitude</th>\n",
       "      <th>dropoff_longitude</th>\n",
       "      <th>dropoff_latitude</th>\n",
       "      <th>store_and_fwd_flag</th>\n",
       "      <th>trip_duration</th>\n",
       "    </tr>\n",
       "  </thead>\n",
       "  <tbody>\n",
       "    <tr>\n",
       "      <th>0</th>\n",
       "      <td>id1080784</td>\n",
       "      <td>2</td>\n",
       "      <td>2016-02-29 16:40:21</td>\n",
       "      <td>2016-02-29 16:47:01</td>\n",
       "      <td>1</td>\n",
       "      <td>-73.953918</td>\n",
       "      <td>40.778873</td>\n",
       "      <td>-73.963875</td>\n",
       "      <td>40.771164</td>\n",
       "      <td>N</td>\n",
       "      <td>400</td>\n",
       "    </tr>\n",
       "    <tr>\n",
       "      <th>1</th>\n",
       "      <td>id0889885</td>\n",
       "      <td>1</td>\n",
       "      <td>2016-03-11 23:35:37</td>\n",
       "      <td>2016-03-11 23:53:57</td>\n",
       "      <td>2</td>\n",
       "      <td>-73.988312</td>\n",
       "      <td>40.731743</td>\n",
       "      <td>-73.994751</td>\n",
       "      <td>40.694931</td>\n",
       "      <td>N</td>\n",
       "      <td>1100</td>\n",
       "    </tr>\n",
       "    <tr>\n",
       "      <th>2</th>\n",
       "      <td>id0857912</td>\n",
       "      <td>2</td>\n",
       "      <td>2016-02-21 17:59:33</td>\n",
       "      <td>2016-02-21 18:26:48</td>\n",
       "      <td>2</td>\n",
       "      <td>-73.997314</td>\n",
       "      <td>40.721458</td>\n",
       "      <td>-73.948029</td>\n",
       "      <td>40.774918</td>\n",
       "      <td>N</td>\n",
       "      <td>1635</td>\n",
       "    </tr>\n",
       "    <tr>\n",
       "      <th>3</th>\n",
       "      <td>id3744273</td>\n",
       "      <td>2</td>\n",
       "      <td>2016-01-05 09:44:31</td>\n",
       "      <td>2016-01-05 10:03:32</td>\n",
       "      <td>6</td>\n",
       "      <td>-73.961670</td>\n",
       "      <td>40.759720</td>\n",
       "      <td>-73.956779</td>\n",
       "      <td>40.780628</td>\n",
       "      <td>N</td>\n",
       "      <td>1141</td>\n",
       "    </tr>\n",
       "    <tr>\n",
       "      <th>4</th>\n",
       "      <td>id0232939</td>\n",
       "      <td>1</td>\n",
       "      <td>2016-02-17 06:42:23</td>\n",
       "      <td>2016-02-17 06:56:31</td>\n",
       "      <td>1</td>\n",
       "      <td>-74.017120</td>\n",
       "      <td>40.708469</td>\n",
       "      <td>-73.988182</td>\n",
       "      <td>40.740631</td>\n",
       "      <td>N</td>\n",
       "      <td>848</td>\n",
       "    </tr>\n",
       "  </tbody>\n",
       "</table>\n",
       "</div>"
      ],
      "text/plain": [
       "          id  vendor_id      pickup_datetime     dropoff_datetime  \\\n",
       "0  id1080784          2  2016-02-29 16:40:21  2016-02-29 16:47:01   \n",
       "1  id0889885          1  2016-03-11 23:35:37  2016-03-11 23:53:57   \n",
       "2  id0857912          2  2016-02-21 17:59:33  2016-02-21 18:26:48   \n",
       "3  id3744273          2  2016-01-05 09:44:31  2016-01-05 10:03:32   \n",
       "4  id0232939          1  2016-02-17 06:42:23  2016-02-17 06:56:31   \n",
       "\n",
       "   passenger_count  pickup_longitude  pickup_latitude  dropoff_longitude  \\\n",
       "0                1        -73.953918        40.778873         -73.963875   \n",
       "1                2        -73.988312        40.731743         -73.994751   \n",
       "2                2        -73.997314        40.721458         -73.948029   \n",
       "3                6        -73.961670        40.759720         -73.956779   \n",
       "4                1        -74.017120        40.708469         -73.988182   \n",
       "\n",
       "   dropoff_latitude store_and_fwd_flag  trip_duration  \n",
       "0         40.771164                  N            400  \n",
       "1         40.694931                  N           1100  \n",
       "2         40.774918                  N           1635  \n",
       "3         40.780628                  N           1141  \n",
       "4         40.740631                  N            848  "
      ]
     },
     "execution_count": 4,
     "metadata": {},
     "output_type": "execute_result"
    }
   ],
   "source": [
    "data = pd.read_csv('Dataset/nyc_taxi_trip_duration.csv')\n",
    "data.head()"
   ]
  },
  {
   "cell_type": "code",
   "execution_count": 5,
   "id": "1550e3eb",
   "metadata": {
    "scrolled": true
   },
   "outputs": [
    {
     "data": {
      "text/html": [
       "<div>\n",
       "<style scoped>\n",
       "    .dataframe tbody tr th:only-of-type {\n",
       "        vertical-align: middle;\n",
       "    }\n",
       "\n",
       "    .dataframe tbody tr th {\n",
       "        vertical-align: top;\n",
       "    }\n",
       "\n",
       "    .dataframe thead th {\n",
       "        text-align: right;\n",
       "    }\n",
       "</style>\n",
       "<table border=\"1\" class=\"dataframe\">\n",
       "  <thead>\n",
       "    <tr style=\"text-align: right;\">\n",
       "      <th></th>\n",
       "      <th>id</th>\n",
       "      <th>vendor_id</th>\n",
       "      <th>pickup_datetime</th>\n",
       "      <th>dropoff_datetime</th>\n",
       "      <th>passenger_count</th>\n",
       "      <th>pickup_longitude</th>\n",
       "      <th>pickup_latitude</th>\n",
       "      <th>dropoff_longitude</th>\n",
       "      <th>dropoff_latitude</th>\n",
       "      <th>store_and_fwd_flag</th>\n",
       "      <th>trip_duration</th>\n",
       "    </tr>\n",
       "  </thead>\n",
       "  <tbody>\n",
       "    <tr>\n",
       "      <th>729317</th>\n",
       "      <td>id3905982</td>\n",
       "      <td>2</td>\n",
       "      <td>2016-05-21 13:29:38</td>\n",
       "      <td>2016-05-21 13:34:34</td>\n",
       "      <td>2</td>\n",
       "      <td>-73.965919</td>\n",
       "      <td>40.789780</td>\n",
       "      <td>-73.952637</td>\n",
       "      <td>40.789181</td>\n",
       "      <td>N</td>\n",
       "      <td>296</td>\n",
       "    </tr>\n",
       "    <tr>\n",
       "      <th>729318</th>\n",
       "      <td>id0102861</td>\n",
       "      <td>1</td>\n",
       "      <td>2016-02-22 00:43:11</td>\n",
       "      <td>2016-02-22 00:48:26</td>\n",
       "      <td>1</td>\n",
       "      <td>-73.996666</td>\n",
       "      <td>40.737434</td>\n",
       "      <td>-74.001320</td>\n",
       "      <td>40.731911</td>\n",
       "      <td>N</td>\n",
       "      <td>315</td>\n",
       "    </tr>\n",
       "    <tr>\n",
       "      <th>729319</th>\n",
       "      <td>id0439699</td>\n",
       "      <td>1</td>\n",
       "      <td>2016-04-15 18:56:48</td>\n",
       "      <td>2016-04-15 19:08:01</td>\n",
       "      <td>1</td>\n",
       "      <td>-73.997849</td>\n",
       "      <td>40.761696</td>\n",
       "      <td>-74.001488</td>\n",
       "      <td>40.741207</td>\n",
       "      <td>N</td>\n",
       "      <td>673</td>\n",
       "    </tr>\n",
       "    <tr>\n",
       "      <th>729320</th>\n",
       "      <td>id2078912</td>\n",
       "      <td>1</td>\n",
       "      <td>2016-06-19 09:50:47</td>\n",
       "      <td>2016-06-19 09:58:14</td>\n",
       "      <td>1</td>\n",
       "      <td>-74.006706</td>\n",
       "      <td>40.708244</td>\n",
       "      <td>-74.013550</td>\n",
       "      <td>40.713814</td>\n",
       "      <td>N</td>\n",
       "      <td>447</td>\n",
       "    </tr>\n",
       "    <tr>\n",
       "      <th>729321</th>\n",
       "      <td>id1053441</td>\n",
       "      <td>2</td>\n",
       "      <td>2016-01-01 17:24:16</td>\n",
       "      <td>2016-01-01 17:44:40</td>\n",
       "      <td>4</td>\n",
       "      <td>-74.003342</td>\n",
       "      <td>40.743839</td>\n",
       "      <td>-73.945847</td>\n",
       "      <td>40.712841</td>\n",
       "      <td>N</td>\n",
       "      <td>1224</td>\n",
       "    </tr>\n",
       "  </tbody>\n",
       "</table>\n",
       "</div>"
      ],
      "text/plain": [
       "               id  vendor_id      pickup_datetime     dropoff_datetime  \\\n",
       "729317  id3905982          2  2016-05-21 13:29:38  2016-05-21 13:34:34   \n",
       "729318  id0102861          1  2016-02-22 00:43:11  2016-02-22 00:48:26   \n",
       "729319  id0439699          1  2016-04-15 18:56:48  2016-04-15 19:08:01   \n",
       "729320  id2078912          1  2016-06-19 09:50:47  2016-06-19 09:58:14   \n",
       "729321  id1053441          2  2016-01-01 17:24:16  2016-01-01 17:44:40   \n",
       "\n",
       "        passenger_count  pickup_longitude  pickup_latitude  dropoff_longitude  \\\n",
       "729317                2        -73.965919        40.789780         -73.952637   \n",
       "729318                1        -73.996666        40.737434         -74.001320   \n",
       "729319                1        -73.997849        40.761696         -74.001488   \n",
       "729320                1        -74.006706        40.708244         -74.013550   \n",
       "729321                4        -74.003342        40.743839         -73.945847   \n",
       "\n",
       "        dropoff_latitude store_and_fwd_flag  trip_duration  \n",
       "729317         40.789181                  N            296  \n",
       "729318         40.731911                  N            315  \n",
       "729319         40.741207                  N            673  \n",
       "729320         40.713814                  N            447  \n",
       "729321         40.712841                  N           1224  "
      ]
     },
     "execution_count": 5,
     "metadata": {},
     "output_type": "execute_result"
    }
   ],
   "source": [
    "data.tail()"
   ]
  },
  {
   "cell_type": "code",
   "execution_count": 6,
   "id": "06ab242f",
   "metadata": {},
   "outputs": [
    {
     "data": {
      "text/plain": [
       "(729322, 11)"
      ]
     },
     "execution_count": 6,
     "metadata": {},
     "output_type": "execute_result"
    }
   ],
   "source": [
    "data.shape"
   ]
  },
  {
   "cell_type": "markdown",
   "id": "8d5f8c84",
   "metadata": {},
   "source": [
    "### Treating Missing Values"
   ]
  },
  {
   "cell_type": "code",
   "execution_count": 7,
   "id": "1ac27a51",
   "metadata": {},
   "outputs": [
    {
     "data": {
      "text/plain": [
       "id                    0\n",
       "vendor_id             0\n",
       "pickup_datetime       0\n",
       "dropoff_datetime      0\n",
       "passenger_count       0\n",
       "pickup_longitude      0\n",
       "pickup_latitude       0\n",
       "dropoff_longitude     0\n",
       "dropoff_latitude      0\n",
       "store_and_fwd_flag    0\n",
       "trip_duration         0\n",
       "dtype: int64"
      ]
     },
     "execution_count": 7,
     "metadata": {},
     "output_type": "execute_result"
    }
   ],
   "source": [
    "data.isnull().sum()"
   ]
  },
  {
   "cell_type": "markdown",
   "id": "36739422",
   "metadata": {},
   "source": [
    "There are no missing values to be handled."
   ]
  },
  {
   "cell_type": "markdown",
   "id": "0688e16d",
   "metadata": {},
   "source": [
    "### Outlier Detection"
   ]
  },
  {
   "cell_type": "markdown",
   "id": "c8ca31a0",
   "metadata": {},
   "source": [
    "#### Trip Duration"
   ]
  },
  {
   "cell_type": "code",
   "execution_count": 8,
   "id": "966cd5a4",
   "metadata": {},
   "outputs": [
    {
     "data": {
      "text/plain": [
       "1"
      ]
     },
     "execution_count": 8,
     "metadata": {},
     "output_type": "execute_result"
    }
   ],
   "source": [
    "len(data[data['trip_duration']==data.trip_duration.max()])"
   ]
  },
  {
   "cell_type": "code",
   "execution_count": 9,
   "id": "9500c9a7",
   "metadata": {},
   "outputs": [
    {
     "data": {
      "text/plain": [
       "13"
      ]
     },
     "execution_count": 9,
     "metadata": {},
     "output_type": "execute_result"
    }
   ],
   "source": [
    "len(data[data['trip_duration']==data.trip_duration.min()])"
   ]
  },
  {
   "cell_type": "markdown",
   "id": "16292188",
   "metadata": {},
   "source": [
    "There was 1 trip with 1939736 second duration and there were 13 trips with 1 second duration. Hence, removing those datapoints from the entire dataset."
   ]
  },
  {
   "cell_type": "code",
   "execution_count": 10,
   "id": "05c02273",
   "metadata": {},
   "outputs": [],
   "source": [
    "data = data[data.trip_duration != data.trip_duration.max()]\n",
    "data = data[data.trip_duration != data.trip_duration.min()]"
   ]
  },
  {
   "cell_type": "code",
   "execution_count": 11,
   "id": "a1152c20",
   "metadata": {},
   "outputs": [
    {
     "data": {
      "text/plain": [
       "(729308, 11)"
      ]
     },
     "execution_count": 11,
     "metadata": {},
     "output_type": "execute_result"
    }
   ],
   "source": [
    "# Rechecking the shape of the data\n",
    "data.shape"
   ]
  },
  {
   "cell_type": "markdown",
   "id": "36e39f5c",
   "metadata": {},
   "source": [
    "#### Passenger Count"
   ]
  },
  {
   "cell_type": "code",
   "execution_count": 12,
   "id": "de624575",
   "metadata": {},
   "outputs": [
    {
     "data": {
      "text/plain": [
       "1    517403\n",
       "2    105096\n",
       "5     38926\n",
       "3     29692\n",
       "6     24107\n",
       "4     14050\n",
       "0        32\n",
       "7         1\n",
       "9         1\n",
       "Name: passenger_count, dtype: int64"
      ]
     },
     "execution_count": 12,
     "metadata": {},
     "output_type": "execute_result"
    }
   ],
   "source": [
    "data.passenger_count.value_counts()"
   ]
  },
  {
   "cell_type": "markdown",
   "id": "6ac68df1",
   "metadata": {},
   "source": [
    "The number of records with passenger 0, 7 and 9 are very less as compared to the entire dataset. Hence, dropping off the records."
   ]
  },
  {
   "cell_type": "code",
   "execution_count": 13,
   "id": "5b234471",
   "metadata": {},
   "outputs": [],
   "source": [
    "data = data[data.passenger_count <= 6]\n",
    "data = data[data.passenger_count != 0]"
   ]
  },
  {
   "cell_type": "code",
   "execution_count": 14,
   "id": "0cc5ce42",
   "metadata": {},
   "outputs": [
    {
     "data": {
      "text/plain": [
       "(729274, 11)"
      ]
     },
     "execution_count": 14,
     "metadata": {},
     "output_type": "execute_result"
    }
   ],
   "source": [
    "# Rechecking the shape of the data\n",
    "data.shape"
   ]
  },
  {
   "cell_type": "markdown",
   "id": "6c422603",
   "metadata": {},
   "source": [
    "#### Pickup_datetime and dropoff_datetime"
   ]
  },
  {
   "cell_type": "code",
   "execution_count": 15,
   "id": "39fe5e02",
   "metadata": {},
   "outputs": [],
   "source": [
    "data['pickup_datetime'] = data['pickup_datetime'].astype('datetime64[ns]')\n",
    "data['dropoff_datetime'] = data['dropoff_datetime'].astype('datetime64[ns]')"
   ]
  },
  {
   "cell_type": "code",
   "execution_count": 16,
   "id": "c9a60842",
   "metadata": {},
   "outputs": [],
   "source": [
    "# Extracting day name\n",
    "data['pickup_day'] = data['pickup_datetime'].dt.day_name()\n",
    "data['dropoff_day'] = data['dropoff_datetime'].dt.day_name()\n",
    "\n",
    "# Extracting month name\n",
    "data['pickup_month_name'] = data['pickup_datetime'].dt.month_name()\n",
    "data['dropoff_month_name'] = data['dropoff_datetime'].dt.month_name()\n",
    "\n",
    "data['pickup_month_no'] = data['pickup_datetime'].dt.month\n",
    "data['dropoff_month_no'] = data['dropoff_datetime'].dt.month\n",
    "\n",
    "# Extracting hour\n",
    "data['pickup_hour']=data['pickup_datetime'].dt.hour\n",
    "data['dropoff_hour']=data['dropoff_datetime'].dt.hour"
   ]
  },
  {
   "cell_type": "code",
   "execution_count": 17,
   "id": "cb42e089",
   "metadata": {},
   "outputs": [
    {
     "data": {
      "text/plain": [
       "March       128307\n",
       "April       125627\n",
       "May         124194\n",
       "February    119354\n",
       "June        117404\n",
       "January     114388\n",
       "Name: pickup_month_name, dtype: int64"
      ]
     },
     "execution_count": 17,
     "metadata": {},
     "output_type": "execute_result"
    }
   ],
   "source": [
    "data['pickup_month_name'].value_counts()"
   ]
  },
  {
   "cell_type": "code",
   "execution_count": 18,
   "id": "9a04ce19",
   "metadata": {},
   "outputs": [
    {
     "data": {
      "text/plain": [
       "March       128275\n",
       "April       125626\n",
       "May         124229\n",
       "February    119351\n",
       "June        117378\n",
       "January     114362\n",
       "July            53\n",
       "Name: dropoff_month_name, dtype: int64"
      ]
     },
     "execution_count": 18,
     "metadata": {},
     "output_type": "execute_result"
    }
   ],
   "source": [
    "data['dropoff_month_name'].value_counts()"
   ]
  },
  {
   "cell_type": "markdown",
   "id": "ac86d7b7",
   "metadata": {},
   "source": [
    "Let's explore more on these 53 July records."
   ]
  },
  {
   "cell_type": "code",
   "execution_count": 19,
   "id": "ad82a33c",
   "metadata": {},
   "outputs": [
    {
     "name": "stdout",
     "output_type": "stream",
     "text": [
      "6    53\n",
      "Name: pickup_datetime, dtype: int64\n",
      "30    53\n",
      "Name: pickup_datetime, dtype: int64\n"
     ]
    }
   ],
   "source": [
    "print(data[data.dropoff_month_no == 7].pickup_datetime.dt.month.value_counts())\n",
    "print(data[data.dropoff_month_no == 7].pickup_datetime.dt.day.value_counts())"
   ]
  },
  {
   "cell_type": "markdown",
   "id": "3482f8c4",
   "metadata": {},
   "source": [
    "These pickups were done on 30th June and were dropoff on July. So, these are not outliers."
   ]
  },
  {
   "cell_type": "markdown",
   "id": "2dee7b19",
   "metadata": {},
   "source": [
    "#### Distance\n"
   ]
  },
  {
   "cell_type": "code",
   "execution_count": 20,
   "id": "819564d0",
   "metadata": {},
   "outputs": [],
   "source": [
    "def cal_distance(pickup_lat,pickup_long,dropoff_lat,dropoff_long):\n",
    "    start_coordinates=(pickup_lat,pickup_long)\n",
    "    stop_coordinates=(dropoff_lat,dropoff_long)\n",
    " \n",
    "    return great_circle(start_coordinates,stop_coordinates).km"
   ]
  },
  {
   "cell_type": "code",
   "execution_count": 21,
   "id": "7a776aec",
   "metadata": {},
   "outputs": [],
   "source": [
    "data['distance'] = data.apply(lambda x: cal_distance(x['pickup_latitude'], x['pickup_longitude'], x['dropoff_latitude'], x['dropoff_longitude']), axis = 1)"
   ]
  },
  {
   "cell_type": "code",
   "execution_count": 22,
   "id": "8ecce308",
   "metadata": {},
   "outputs": [
    {
     "data": {
      "text/plain": [
       "0.000000    2889\n",
       "0.000424      19\n",
       "0.000424      19\n",
       "0.000424      16\n",
       "0.000424      11\n",
       "            ... \n",
       "0.977650       1\n",
       "0.925223       1\n",
       "4.112012       1\n",
       "1.107789       1\n",
       "5.945846       1\n",
       "Name: distance, Length: 726210, dtype: int64"
      ]
     },
     "execution_count": 22,
     "metadata": {},
     "output_type": "execute_result"
    }
   ],
   "source": [
    "data['distance'].value_counts()"
   ]
  },
  {
   "cell_type": "markdown",
   "id": "4a689c20",
   "metadata": {},
   "source": [
    "From EDA and above value count, we know that there are 2889 trips with 0 Km distance, Thus, replacing them with the mean or the average distance."
   ]
  },
  {
   "cell_type": "code",
   "execution_count": 23,
   "id": "9a1a670e",
   "metadata": {},
   "outputs": [],
   "source": [
    "mean_distance = data['distance'].mean()\n",
    "data.loc[data['distance'] == 0, 'distance'] = mean_distance"
   ]
  },
  {
   "cell_type": "markdown",
   "id": "55cd236e",
   "metadata": {},
   "source": [
    "#### Time of day"
   ]
  },
  {
   "cell_type": "code",
   "execution_count": 24,
   "id": "3df3c9c7",
   "metadata": {},
   "outputs": [],
   "source": [
    "def time_of_day(x):\n",
    "    if x in range(6,12):\n",
    "        return 'Morning'\n",
    "    elif x in range(12,16):\n",
    "        return 'Afternoon'\n",
    "    elif x in range(16,22):\n",
    "        return 'Evening'\n",
    "    else:\n",
    "        return 'Late night'"
   ]
  },
  {
   "cell_type": "code",
   "execution_count": 25,
   "id": "7a449d98",
   "metadata": {},
   "outputs": [],
   "source": [
    "data['pickup_timeofday']=data['pickup_hour'].apply(time_of_day)\n",
    "data['dropoff_timeofday']=data['dropoff_hour'].apply(time_of_day)"
   ]
  },
  {
   "cell_type": "code",
   "execution_count": 26,
   "id": "36e338a5",
   "metadata": {
    "scrolled": false
   },
   "outputs": [
    {
     "data": {
      "text/plain": [
       "Index(['id', 'vendor_id', 'pickup_datetime', 'dropoff_datetime',\n",
       "       'passenger_count', 'pickup_longitude', 'pickup_latitude',\n",
       "       'dropoff_longitude', 'dropoff_latitude', 'store_and_fwd_flag',\n",
       "       'trip_duration', 'pickup_day', 'dropoff_day', 'pickup_month_name',\n",
       "       'dropoff_month_name', 'pickup_month_no', 'dropoff_month_no',\n",
       "       'pickup_hour', 'dropoff_hour', 'distance', 'pickup_timeofday',\n",
       "       'dropoff_timeofday'],\n",
       "      dtype='object')"
      ]
     },
     "execution_count": 26,
     "metadata": {},
     "output_type": "execute_result"
    }
   ],
   "source": [
    "data.columns"
   ]
  },
  {
   "cell_type": "markdown",
   "id": "dc2affc4",
   "metadata": {},
   "source": [
    "### Selecting Required columns for the model"
   ]
  },
  {
   "cell_type": "code",
   "execution_count": 27,
   "id": "c5e26597",
   "metadata": {},
   "outputs": [],
   "source": [
    "data_col = ['store_and_fwd_flag', 'pickup_day', 'dropoff_day', 'pickup_month_no', 'dropoff_month_no', 'pickup_timeofday', 'dropoff_timeofday', 'distance', 'trip_duration', 'passenger_count', 'pickup_hour', 'dropoff_hour', 'vendor_id']"
   ]
  },
  {
   "cell_type": "code",
   "execution_count": 28,
   "id": "32db79b4",
   "metadata": {},
   "outputs": [],
   "source": [
    "data_model = data[data_col]"
   ]
  },
  {
   "cell_type": "markdown",
   "id": "1ec4dc2f",
   "metadata": {},
   "source": [
    "### Preprocessing Data"
   ]
  },
  {
   "cell_type": "code",
   "execution_count": 29,
   "id": "6b293d12",
   "metadata": {},
   "outputs": [],
   "source": [
    "# Converting categorical features using One hot Encoding\n",
    "\n",
    "data_model = pd.get_dummies(data_model, columns = ['store_and_fwd_flag', 'pickup_day', 'dropoff_day', 'pickup_timeofday', 'dropoff_timeofday'])"
   ]
  },
  {
   "cell_type": "code",
   "execution_count": 30,
   "id": "12fcf2af",
   "metadata": {},
   "outputs": [
    {
     "data": {
      "text/plain": [
       "(729274, 32)"
      ]
     },
     "execution_count": 30,
     "metadata": {},
     "output_type": "execute_result"
    }
   ],
   "source": [
    "data_model.shape"
   ]
  },
  {
   "cell_type": "code",
   "execution_count": 31,
   "id": "3344ccd7",
   "metadata": {
    "scrolled": true
   },
   "outputs": [
    {
     "data": {
      "text/html": [
       "<div>\n",
       "<style scoped>\n",
       "    .dataframe tbody tr th:only-of-type {\n",
       "        vertical-align: middle;\n",
       "    }\n",
       "\n",
       "    .dataframe tbody tr th {\n",
       "        vertical-align: top;\n",
       "    }\n",
       "\n",
       "    .dataframe thead th {\n",
       "        text-align: right;\n",
       "    }\n",
       "</style>\n",
       "<table border=\"1\" class=\"dataframe\">\n",
       "  <thead>\n",
       "    <tr style=\"text-align: right;\">\n",
       "      <th></th>\n",
       "      <th>pickup_month_no</th>\n",
       "      <th>dropoff_month_no</th>\n",
       "      <th>distance</th>\n",
       "      <th>trip_duration</th>\n",
       "      <th>passenger_count</th>\n",
       "      <th>pickup_hour</th>\n",
       "      <th>dropoff_hour</th>\n",
       "      <th>vendor_id</th>\n",
       "      <th>store_and_fwd_flag_N</th>\n",
       "      <th>store_and_fwd_flag_Y</th>\n",
       "      <th>pickup_day_Friday</th>\n",
       "      <th>pickup_day_Monday</th>\n",
       "      <th>pickup_day_Saturday</th>\n",
       "      <th>pickup_day_Sunday</th>\n",
       "      <th>pickup_day_Thursday</th>\n",
       "      <th>pickup_day_Tuesday</th>\n",
       "      <th>pickup_day_Wednesday</th>\n",
       "      <th>dropoff_day_Friday</th>\n",
       "      <th>dropoff_day_Monday</th>\n",
       "      <th>dropoff_day_Saturday</th>\n",
       "      <th>dropoff_day_Sunday</th>\n",
       "      <th>dropoff_day_Thursday</th>\n",
       "      <th>dropoff_day_Tuesday</th>\n",
       "      <th>dropoff_day_Wednesday</th>\n",
       "      <th>pickup_timeofday_Afternoon</th>\n",
       "      <th>pickup_timeofday_Evening</th>\n",
       "      <th>pickup_timeofday_Late night</th>\n",
       "      <th>pickup_timeofday_Morning</th>\n",
       "      <th>dropoff_timeofday_Afternoon</th>\n",
       "      <th>dropoff_timeofday_Evening</th>\n",
       "      <th>dropoff_timeofday_Late night</th>\n",
       "      <th>dropoff_timeofday_Morning</th>\n",
       "    </tr>\n",
       "  </thead>\n",
       "  <tbody>\n",
       "    <tr>\n",
       "      <th>0</th>\n",
       "      <td>2</td>\n",
       "      <td>2</td>\n",
       "      <td>1.199074</td>\n",
       "      <td>400</td>\n",
       "      <td>1</td>\n",
       "      <td>16</td>\n",
       "      <td>16</td>\n",
       "      <td>2</td>\n",
       "      <td>1</td>\n",
       "      <td>0</td>\n",
       "      <td>0</td>\n",
       "      <td>1</td>\n",
       "      <td>0</td>\n",
       "      <td>0</td>\n",
       "      <td>0</td>\n",
       "      <td>0</td>\n",
       "      <td>0</td>\n",
       "      <td>0</td>\n",
       "      <td>1</td>\n",
       "      <td>0</td>\n",
       "      <td>0</td>\n",
       "      <td>0</td>\n",
       "      <td>0</td>\n",
       "      <td>0</td>\n",
       "      <td>0</td>\n",
       "      <td>1</td>\n",
       "      <td>0</td>\n",
       "      <td>0</td>\n",
       "      <td>0</td>\n",
       "      <td>1</td>\n",
       "      <td>0</td>\n",
       "      <td>0</td>\n",
       "    </tr>\n",
       "    <tr>\n",
       "      <th>1</th>\n",
       "      <td>3</td>\n",
       "      <td>3</td>\n",
       "      <td>4.129117</td>\n",
       "      <td>1100</td>\n",
       "      <td>2</td>\n",
       "      <td>23</td>\n",
       "      <td>23</td>\n",
       "      <td>1</td>\n",
       "      <td>1</td>\n",
       "      <td>0</td>\n",
       "      <td>1</td>\n",
       "      <td>0</td>\n",
       "      <td>0</td>\n",
       "      <td>0</td>\n",
       "      <td>0</td>\n",
       "      <td>0</td>\n",
       "      <td>0</td>\n",
       "      <td>1</td>\n",
       "      <td>0</td>\n",
       "      <td>0</td>\n",
       "      <td>0</td>\n",
       "      <td>0</td>\n",
       "      <td>0</td>\n",
       "      <td>0</td>\n",
       "      <td>0</td>\n",
       "      <td>0</td>\n",
       "      <td>1</td>\n",
       "      <td>0</td>\n",
       "      <td>0</td>\n",
       "      <td>0</td>\n",
       "      <td>1</td>\n",
       "      <td>0</td>\n",
       "    </tr>\n",
       "    <tr>\n",
       "      <th>2</th>\n",
       "      <td>2</td>\n",
       "      <td>2</td>\n",
       "      <td>7.250763</td>\n",
       "      <td>1635</td>\n",
       "      <td>2</td>\n",
       "      <td>17</td>\n",
       "      <td>18</td>\n",
       "      <td>2</td>\n",
       "      <td>1</td>\n",
       "      <td>0</td>\n",
       "      <td>0</td>\n",
       "      <td>0</td>\n",
       "      <td>0</td>\n",
       "      <td>1</td>\n",
       "      <td>0</td>\n",
       "      <td>0</td>\n",
       "      <td>0</td>\n",
       "      <td>0</td>\n",
       "      <td>0</td>\n",
       "      <td>0</td>\n",
       "      <td>1</td>\n",
       "      <td>0</td>\n",
       "      <td>0</td>\n",
       "      <td>0</td>\n",
       "      <td>0</td>\n",
       "      <td>1</td>\n",
       "      <td>0</td>\n",
       "      <td>0</td>\n",
       "      <td>0</td>\n",
       "      <td>1</td>\n",
       "      <td>0</td>\n",
       "      <td>0</td>\n",
       "    </tr>\n",
       "    <tr>\n",
       "      <th>3</th>\n",
       "      <td>1</td>\n",
       "      <td>1</td>\n",
       "      <td>2.361101</td>\n",
       "      <td>1141</td>\n",
       "      <td>6</td>\n",
       "      <td>9</td>\n",
       "      <td>10</td>\n",
       "      <td>2</td>\n",
       "      <td>1</td>\n",
       "      <td>0</td>\n",
       "      <td>0</td>\n",
       "      <td>0</td>\n",
       "      <td>0</td>\n",
       "      <td>0</td>\n",
       "      <td>0</td>\n",
       "      <td>1</td>\n",
       "      <td>0</td>\n",
       "      <td>0</td>\n",
       "      <td>0</td>\n",
       "      <td>0</td>\n",
       "      <td>0</td>\n",
       "      <td>0</td>\n",
       "      <td>1</td>\n",
       "      <td>0</td>\n",
       "      <td>0</td>\n",
       "      <td>0</td>\n",
       "      <td>0</td>\n",
       "      <td>1</td>\n",
       "      <td>0</td>\n",
       "      <td>0</td>\n",
       "      <td>0</td>\n",
       "      <td>1</td>\n",
       "    </tr>\n",
       "    <tr>\n",
       "      <th>4</th>\n",
       "      <td>2</td>\n",
       "      <td>2</td>\n",
       "      <td>4.328540</td>\n",
       "      <td>848</td>\n",
       "      <td>1</td>\n",
       "      <td>6</td>\n",
       "      <td>6</td>\n",
       "      <td>1</td>\n",
       "      <td>1</td>\n",
       "      <td>0</td>\n",
       "      <td>0</td>\n",
       "      <td>0</td>\n",
       "      <td>0</td>\n",
       "      <td>0</td>\n",
       "      <td>0</td>\n",
       "      <td>0</td>\n",
       "      <td>1</td>\n",
       "      <td>0</td>\n",
       "      <td>0</td>\n",
       "      <td>0</td>\n",
       "      <td>0</td>\n",
       "      <td>0</td>\n",
       "      <td>0</td>\n",
       "      <td>1</td>\n",
       "      <td>0</td>\n",
       "      <td>0</td>\n",
       "      <td>0</td>\n",
       "      <td>1</td>\n",
       "      <td>0</td>\n",
       "      <td>0</td>\n",
       "      <td>0</td>\n",
       "      <td>1</td>\n",
       "    </tr>\n",
       "  </tbody>\n",
       "</table>\n",
       "</div>"
      ],
      "text/plain": [
       "   pickup_month_no  dropoff_month_no  distance  trip_duration  \\\n",
       "0                2                 2  1.199074            400   \n",
       "1                3                 3  4.129117           1100   \n",
       "2                2                 2  7.250763           1635   \n",
       "3                1                 1  2.361101           1141   \n",
       "4                2                 2  4.328540            848   \n",
       "\n",
       "   passenger_count  pickup_hour  dropoff_hour  vendor_id  \\\n",
       "0                1           16            16          2   \n",
       "1                2           23            23          1   \n",
       "2                2           17            18          2   \n",
       "3                6            9            10          2   \n",
       "4                1            6             6          1   \n",
       "\n",
       "   store_and_fwd_flag_N  store_and_fwd_flag_Y  pickup_day_Friday  \\\n",
       "0                     1                     0                  0   \n",
       "1                     1                     0                  1   \n",
       "2                     1                     0                  0   \n",
       "3                     1                     0                  0   \n",
       "4                     1                     0                  0   \n",
       "\n",
       "   pickup_day_Monday  pickup_day_Saturday  pickup_day_Sunday  \\\n",
       "0                  1                    0                  0   \n",
       "1                  0                    0                  0   \n",
       "2                  0                    0                  1   \n",
       "3                  0                    0                  0   \n",
       "4                  0                    0                  0   \n",
       "\n",
       "   pickup_day_Thursday  pickup_day_Tuesday  pickup_day_Wednesday  \\\n",
       "0                    0                   0                     0   \n",
       "1                    0                   0                     0   \n",
       "2                    0                   0                     0   \n",
       "3                    0                   1                     0   \n",
       "4                    0                   0                     1   \n",
       "\n",
       "   dropoff_day_Friday  dropoff_day_Monday  dropoff_day_Saturday  \\\n",
       "0                   0                   1                     0   \n",
       "1                   1                   0                     0   \n",
       "2                   0                   0                     0   \n",
       "3                   0                   0                     0   \n",
       "4                   0                   0                     0   \n",
       "\n",
       "   dropoff_day_Sunday  dropoff_day_Thursday  dropoff_day_Tuesday  \\\n",
       "0                   0                     0                    0   \n",
       "1                   0                     0                    0   \n",
       "2                   1                     0                    0   \n",
       "3                   0                     0                    1   \n",
       "4                   0                     0                    0   \n",
       "\n",
       "   dropoff_day_Wednesday  pickup_timeofday_Afternoon  \\\n",
       "0                      0                           0   \n",
       "1                      0                           0   \n",
       "2                      0                           0   \n",
       "3                      0                           0   \n",
       "4                      1                           0   \n",
       "\n",
       "   pickup_timeofday_Evening  pickup_timeofday_Late night  \\\n",
       "0                         1                            0   \n",
       "1                         0                            1   \n",
       "2                         1                            0   \n",
       "3                         0                            0   \n",
       "4                         0                            0   \n",
       "\n",
       "   pickup_timeofday_Morning  dropoff_timeofday_Afternoon  \\\n",
       "0                         0                            0   \n",
       "1                         0                            0   \n",
       "2                         0                            0   \n",
       "3                         1                            0   \n",
       "4                         1                            0   \n",
       "\n",
       "   dropoff_timeofday_Evening  dropoff_timeofday_Late night  \\\n",
       "0                          1                             0   \n",
       "1                          0                             1   \n",
       "2                          1                             0   \n",
       "3                          0                             0   \n",
       "4                          0                             0   \n",
       "\n",
       "   dropoff_timeofday_Morning  \n",
       "0                          0  \n",
       "1                          0  \n",
       "2                          0  \n",
       "3                          1  \n",
       "4                          1  "
      ]
     },
     "execution_count": 31,
     "metadata": {},
     "output_type": "execute_result"
    }
   ],
   "source": [
    "data_model.head()"
   ]
  },
  {
   "cell_type": "markdown",
   "id": "f9fdfeff",
   "metadata": {},
   "source": [
    "### Segregating variables: Independent and Dependent Variables"
   ]
  },
  {
   "cell_type": "code",
   "execution_count": 32,
   "id": "7735676f",
   "metadata": {},
   "outputs": [
    {
     "data": {
      "text/plain": [
       "((729274, 31), (729274,))"
      ]
     },
     "execution_count": 32,
     "metadata": {},
     "output_type": "execute_result"
    }
   ],
   "source": [
    "#seperating independent and dependent variables\n",
    "x = data_model.drop(['trip_duration'], axis=1)\n",
    "y = data_model['trip_duration']\n",
    "x.shape, y.shape"
   ]
  },
  {
   "cell_type": "markdown",
   "id": "27401e23",
   "metadata": {},
   "source": [
    "### Splitting the data into train set and the test set"
   ]
  },
  {
   "cell_type": "code",
   "execution_count": 33,
   "id": "23c8dfe1",
   "metadata": {},
   "outputs": [],
   "source": [
    "# Importing the train test split function\n",
    "from sklearn.model_selection import train_test_split\n",
    "train_x,test_x,train_y,test_y = train_test_split(x,y, random_state = 56, shuffle = True)"
   ]
  },
  {
   "cell_type": "markdown",
   "id": "cc016e74",
   "metadata": {},
   "source": [
    "### Implementing Linear Regression"
   ]
  },
  {
   "cell_type": "code",
   "execution_count": 34,
   "id": "4062d579",
   "metadata": {},
   "outputs": [],
   "source": [
    "#importing Linear Regression and metric mean square error\n",
    "from sklearn.linear_model import LinearRegression as LR\n",
    "from sklearn.metrics import mean_absolute_error as mae"
   ]
  },
  {
   "cell_type": "markdown",
   "id": "bfd61079",
   "metadata": {},
   "source": [
    "#### Training Model - Part 1"
   ]
  },
  {
   "cell_type": "code",
   "execution_count": 35,
   "id": "7e28e38c",
   "metadata": {},
   "outputs": [
    {
     "data": {
      "text/html": [
       "<style>#sk-container-id-1 {color: black;background-color: white;}#sk-container-id-1 pre{padding: 0;}#sk-container-id-1 div.sk-toggleable {background-color: white;}#sk-container-id-1 label.sk-toggleable__label {cursor: pointer;display: block;width: 100%;margin-bottom: 0;padding: 0.3em;box-sizing: border-box;text-align: center;}#sk-container-id-1 label.sk-toggleable__label-arrow:before {content: \"▸\";float: left;margin-right: 0.25em;color: #696969;}#sk-container-id-1 label.sk-toggleable__label-arrow:hover:before {color: black;}#sk-container-id-1 div.sk-estimator:hover label.sk-toggleable__label-arrow:before {color: black;}#sk-container-id-1 div.sk-toggleable__content {max-height: 0;max-width: 0;overflow: hidden;text-align: left;background-color: #f0f8ff;}#sk-container-id-1 div.sk-toggleable__content pre {margin: 0.2em;color: black;border-radius: 0.25em;background-color: #f0f8ff;}#sk-container-id-1 input.sk-toggleable__control:checked~div.sk-toggleable__content {max-height: 200px;max-width: 100%;overflow: auto;}#sk-container-id-1 input.sk-toggleable__control:checked~label.sk-toggleable__label-arrow:before {content: \"▾\";}#sk-container-id-1 div.sk-estimator input.sk-toggleable__control:checked~label.sk-toggleable__label {background-color: #d4ebff;}#sk-container-id-1 div.sk-label input.sk-toggleable__control:checked~label.sk-toggleable__label {background-color: #d4ebff;}#sk-container-id-1 input.sk-hidden--visually {border: 0;clip: rect(1px 1px 1px 1px);clip: rect(1px, 1px, 1px, 1px);height: 1px;margin: -1px;overflow: hidden;padding: 0;position: absolute;width: 1px;}#sk-container-id-1 div.sk-estimator {font-family: monospace;background-color: #f0f8ff;border: 1px dotted black;border-radius: 0.25em;box-sizing: border-box;margin-bottom: 0.5em;}#sk-container-id-1 div.sk-estimator:hover {background-color: #d4ebff;}#sk-container-id-1 div.sk-parallel-item::after {content: \"\";width: 100%;border-bottom: 1px solid gray;flex-grow: 1;}#sk-container-id-1 div.sk-label:hover label.sk-toggleable__label {background-color: #d4ebff;}#sk-container-id-1 div.sk-serial::before {content: \"\";position: absolute;border-left: 1px solid gray;box-sizing: border-box;top: 0;bottom: 0;left: 50%;z-index: 0;}#sk-container-id-1 div.sk-serial {display: flex;flex-direction: column;align-items: center;background-color: white;padding-right: 0.2em;padding-left: 0.2em;position: relative;}#sk-container-id-1 div.sk-item {position: relative;z-index: 1;}#sk-container-id-1 div.sk-parallel {display: flex;align-items: stretch;justify-content: center;background-color: white;position: relative;}#sk-container-id-1 div.sk-item::before, #sk-container-id-1 div.sk-parallel-item::before {content: \"\";position: absolute;border-left: 1px solid gray;box-sizing: border-box;top: 0;bottom: 0;left: 50%;z-index: -1;}#sk-container-id-1 div.sk-parallel-item {display: flex;flex-direction: column;z-index: 1;position: relative;background-color: white;}#sk-container-id-1 div.sk-parallel-item:first-child::after {align-self: flex-end;width: 50%;}#sk-container-id-1 div.sk-parallel-item:last-child::after {align-self: flex-start;width: 50%;}#sk-container-id-1 div.sk-parallel-item:only-child::after {width: 0;}#sk-container-id-1 div.sk-dashed-wrapped {border: 1px dashed gray;margin: 0 0.4em 0.5em 0.4em;box-sizing: border-box;padding-bottom: 0.4em;background-color: white;}#sk-container-id-1 div.sk-label label {font-family: monospace;font-weight: bold;display: inline-block;line-height: 1.2em;}#sk-container-id-1 div.sk-label-container {text-align: center;}#sk-container-id-1 div.sk-container {/* jupyter's `normalize.less` sets `[hidden] { display: none; }` but bootstrap.min.css set `[hidden] { display: none !important; }` so we also need the `!important` here to be able to override the default hidden behavior on the sphinx rendered scikit-learn.org. See: https://github.com/scikit-learn/scikit-learn/issues/21755 */display: inline-block !important;position: relative;}#sk-container-id-1 div.sk-text-repr-fallback {display: none;}</style><div id=\"sk-container-id-1\" class=\"sk-top-container\"><div class=\"sk-text-repr-fallback\"><pre>LinearRegression()</pre><b>In a Jupyter environment, please rerun this cell to show the HTML representation or trust the notebook. <br />On GitHub, the HTML representation is unable to render, please try loading this page with nbviewer.org.</b></div><div class=\"sk-container\" hidden><div class=\"sk-item\"><div class=\"sk-estimator sk-toggleable\"><input class=\"sk-toggleable__control sk-hidden--visually\" id=\"sk-estimator-id-1\" type=\"checkbox\" checked><label for=\"sk-estimator-id-1\" class=\"sk-toggleable__label sk-toggleable__label-arrow\">LinearRegression</label><div class=\"sk-toggleable__content\"><pre>LinearRegression()</pre></div></div></div></div></div>"
      ],
      "text/plain": [
       "LinearRegression()"
      ]
     },
     "execution_count": 35,
     "metadata": {},
     "output_type": "execute_result"
    }
   ],
   "source": [
    "# Creating instance of Linear Regresssion\n",
    "lr = LR()\n",
    "\n",
    "# Fitting the model\n",
    "lr.fit(train_x, train_y)"
   ]
  },
  {
   "cell_type": "markdown",
   "id": "66cfd473",
   "metadata": {},
   "source": [
    "#### Predicting over the train set"
   ]
  },
  {
   "cell_type": "code",
   "execution_count": 36,
   "id": "8561f1a7",
   "metadata": {},
   "outputs": [
    {
     "name": "stdout",
     "output_type": "stream",
     "text": [
      "Training Mean Absolute Error 456.58652427876893\n"
     ]
    }
   ],
   "source": [
    "# Predicting over the Train Set and calculating error\n",
    "train_predict = lr.predict(train_x)\n",
    "k = mae(train_predict, train_y)\n",
    "print('Training Mean Absolute Error', k )"
   ]
  },
  {
   "cell_type": "markdown",
   "id": "15bb83f6",
   "metadata": {},
   "source": [
    "#### Predicting over the test set"
   ]
  },
  {
   "cell_type": "code",
   "execution_count": 37,
   "id": "1c021689",
   "metadata": {},
   "outputs": [
    {
     "name": "stdout",
     "output_type": "stream",
     "text": [
      "Test Mean Absolute Error     469.9240657174485\n"
     ]
    }
   ],
   "source": [
    "# Predicting over the Test Set and calculating error\n",
    "test_predict = lr.predict(test_x)\n",
    "k = mae(test_predict, test_y)\n",
    "print('Test Mean Absolute Error    ', k )"
   ]
  },
  {
   "cell_type": "markdown",
   "id": "b939cf20",
   "metadata": {},
   "source": [
    "### Parameters of Linear Regression"
   ]
  },
  {
   "cell_type": "code",
   "execution_count": 38,
   "id": "036d56c7",
   "metadata": {},
   "outputs": [
    {
     "data": {
      "text/plain": [
       "array([-1.69249330e+04,  1.69421169e+04,  1.06605453e+02,  1.23199622e+01,\n",
       "       -2.98126752e+01,  2.97261609e+01,  2.00233376e+02, -4.02078721e+01,\n",
       "        4.02078721e+01,  2.99328575e+03, -4.14983076e+03,  6.15820166e+02,\n",
       "       -1.85651868e+03,  1.97221908e+03, -1.30719125e+02,  5.55743573e+02,\n",
       "       -2.96095638e+03,  4.11871511e+03, -6.63983490e+02,  1.76512477e+03,\n",
       "       -1.91633283e+03,  1.60137473e+02, -5.02704652e+02,  1.99792193e+02,\n",
       "       -2.64717147e+02, -2.64273173e+02,  3.29198126e+02, -1.06215561e+02,\n",
       "        2.81738875e+02,  1.87882861e+02, -3.63406175e+02])"
      ]
     },
     "execution_count": 38,
     "metadata": {},
     "output_type": "execute_result"
    }
   ],
   "source": [
    "lr.coef_"
   ]
  },
  {
   "cell_type": "markdown",
   "id": "26530b36",
   "metadata": {},
   "source": [
    "#### Arranging coefficients with features"
   ]
  },
  {
   "cell_type": "code",
   "execution_count": 39,
   "id": "c26fa818",
   "metadata": {},
   "outputs": [
    {
     "data": {
      "text/html": [
       "<div>\n",
       "<style scoped>\n",
       "    .dataframe tbody tr th:only-of-type {\n",
       "        vertical-align: middle;\n",
       "    }\n",
       "\n",
       "    .dataframe tbody tr th {\n",
       "        vertical-align: top;\n",
       "    }\n",
       "\n",
       "    .dataframe thead th {\n",
       "        text-align: right;\n",
       "    }\n",
       "</style>\n",
       "<table border=\"1\" class=\"dataframe\">\n",
       "  <thead>\n",
       "    <tr style=\"text-align: right;\">\n",
       "      <th></th>\n",
       "      <th>Variable</th>\n",
       "      <th>coefficient</th>\n",
       "    </tr>\n",
       "  </thead>\n",
       "  <tbody>\n",
       "    <tr>\n",
       "      <th>0</th>\n",
       "      <td>pickup_month_no</td>\n",
       "      <td>-16924.933036</td>\n",
       "    </tr>\n",
       "    <tr>\n",
       "      <th>1</th>\n",
       "      <td>dropoff_month_no</td>\n",
       "      <td>16942.116930</td>\n",
       "    </tr>\n",
       "    <tr>\n",
       "      <th>2</th>\n",
       "      <td>distance</td>\n",
       "      <td>106.605453</td>\n",
       "    </tr>\n",
       "    <tr>\n",
       "      <th>3</th>\n",
       "      <td>passenger_count</td>\n",
       "      <td>12.319962</td>\n",
       "    </tr>\n",
       "    <tr>\n",
       "      <th>4</th>\n",
       "      <td>pickup_hour</td>\n",
       "      <td>-29.812675</td>\n",
       "    </tr>\n",
       "  </tbody>\n",
       "</table>\n",
       "</div>"
      ],
      "text/plain": [
       "           Variable   coefficient\n",
       "0   pickup_month_no -16924.933036\n",
       "1  dropoff_month_no  16942.116930\n",
       "2          distance    106.605453\n",
       "3   passenger_count     12.319962\n",
       "4       pickup_hour    -29.812675"
      ]
     },
     "execution_count": 39,
     "metadata": {},
     "output_type": "execute_result"
    }
   ],
   "source": [
    "Coefficients = pd.DataFrame({\n",
    "    'Variable'    : x.columns,\n",
    "    'coefficient' : lr.coef_\n",
    "})\n",
    "Coefficients.head()"
   ]
  },
  {
   "cell_type": "markdown",
   "id": "b2078a0f",
   "metadata": {},
   "source": [
    "### Plotting the coefficients\n"
   ]
  },
  {
   "cell_type": "code",
   "execution_count": 40,
   "id": "5c741576",
   "metadata": {},
   "outputs": [
    {
     "data": {
      "text/plain": [
       "Text(0.5, 1.0, 'Coefficient plot')"
      ]
     },
     "execution_count": 40,
     "metadata": {},
     "output_type": "execute_result"
    },
    {
     "data": {
      "image/png": "[encoded data removed]",
      "text/plain": [
       "<Figure size 640x480 with 1 Axes>"
      ]
     },
     "metadata": {},
     "output_type": "display_data"
    }
   ],
   "source": [
    "x = range(len(train_x.columns))\n",
    "y = lr.coef_\n",
    "plt.bar( x, y )\n",
    "plt.xlabel( \"Variables\")\n",
    "plt.ylabel('Coefficients')\n",
    "plt.title('Coefficient plot')"
   ]
  },
  {
   "cell_type": "markdown",
   "id": "74b03faf",
   "metadata": {},
   "source": [
    "#### Chossing variables with sigificance greater than 0.5 ( Filtering Significant Features)\n"
   ]
  },
  {
   "cell_type": "code",
   "execution_count": 41,
   "id": "02599426",
   "metadata": {},
   "outputs": [],
   "source": [
    "sig_var = Coefficients[Coefficients.coefficient > 0.5]"
   ]
  },
  {
   "cell_type": "markdown",
   "id": "134b406a",
   "metadata": {},
   "source": [
    "#### Extracting the significant subset do independent Variables"
   ]
  },
  {
   "cell_type": "code",
   "execution_count": 42,
   "id": "6eaec7e7",
   "metadata": {},
   "outputs": [
    {
     "data": {
      "text/html": [
       "<div>\n",
       "<style scoped>\n",
       "    .dataframe tbody tr th:only-of-type {\n",
       "        vertical-align: middle;\n",
       "    }\n",
       "\n",
       "    .dataframe tbody tr th {\n",
       "        vertical-align: top;\n",
       "    }\n",
       "\n",
       "    .dataframe thead th {\n",
       "        text-align: right;\n",
       "    }\n",
       "</style>\n",
       "<table border=\"1\" class=\"dataframe\">\n",
       "  <thead>\n",
       "    <tr style=\"text-align: right;\">\n",
       "      <th></th>\n",
       "      <th>dropoff_month_no</th>\n",
       "      <th>distance</th>\n",
       "      <th>passenger_count</th>\n",
       "      <th>dropoff_hour</th>\n",
       "      <th>vendor_id</th>\n",
       "      <th>store_and_fwd_flag_Y</th>\n",
       "      <th>pickup_day_Friday</th>\n",
       "      <th>pickup_day_Saturday</th>\n",
       "      <th>pickup_day_Thursday</th>\n",
       "      <th>pickup_day_Wednesday</th>\n",
       "      <th>dropoff_day_Monday</th>\n",
       "      <th>dropoff_day_Sunday</th>\n",
       "      <th>dropoff_day_Tuesday</th>\n",
       "      <th>pickup_timeofday_Afternoon</th>\n",
       "      <th>pickup_timeofday_Morning</th>\n",
       "      <th>dropoff_timeofday_Evening</th>\n",
       "      <th>dropoff_timeofday_Late night</th>\n",
       "    </tr>\n",
       "  </thead>\n",
       "  <tbody>\n",
       "    <tr>\n",
       "      <th>0</th>\n",
       "      <td>2</td>\n",
       "      <td>1.199074</td>\n",
       "      <td>1</td>\n",
       "      <td>16</td>\n",
       "      <td>2</td>\n",
       "      <td>0</td>\n",
       "      <td>0</td>\n",
       "      <td>0</td>\n",
       "      <td>0</td>\n",
       "      <td>0</td>\n",
       "      <td>1</td>\n",
       "      <td>0</td>\n",
       "      <td>0</td>\n",
       "      <td>0</td>\n",
       "      <td>0</td>\n",
       "      <td>1</td>\n",
       "      <td>0</td>\n",
       "    </tr>\n",
       "    <tr>\n",
       "      <th>1</th>\n",
       "      <td>3</td>\n",
       "      <td>4.129117</td>\n",
       "      <td>2</td>\n",
       "      <td>23</td>\n",
       "      <td>1</td>\n",
       "      <td>0</td>\n",
       "      <td>1</td>\n",
       "      <td>0</td>\n",
       "      <td>0</td>\n",
       "      <td>0</td>\n",
       "      <td>0</td>\n",
       "      <td>0</td>\n",
       "      <td>0</td>\n",
       "      <td>0</td>\n",
       "      <td>0</td>\n",
       "      <td>0</td>\n",
       "      <td>1</td>\n",
       "    </tr>\n",
       "    <tr>\n",
       "      <th>2</th>\n",
       "      <td>2</td>\n",
       "      <td>7.250763</td>\n",
       "      <td>2</td>\n",
       "      <td>18</td>\n",
       "      <td>2</td>\n",
       "      <td>0</td>\n",
       "      <td>0</td>\n",
       "      <td>0</td>\n",
       "      <td>0</td>\n",
       "      <td>0</td>\n",
       "      <td>0</td>\n",
       "      <td>1</td>\n",
       "      <td>0</td>\n",
       "      <td>0</td>\n",
       "      <td>0</td>\n",
       "      <td>1</td>\n",
       "      <td>0</td>\n",
       "    </tr>\n",
       "    <tr>\n",
       "      <th>3</th>\n",
       "      <td>1</td>\n",
       "      <td>2.361101</td>\n",
       "      <td>6</td>\n",
       "      <td>10</td>\n",
       "      <td>2</td>\n",
       "      <td>0</td>\n",
       "      <td>0</td>\n",
       "      <td>0</td>\n",
       "      <td>0</td>\n",
       "      <td>0</td>\n",
       "      <td>0</td>\n",
       "      <td>0</td>\n",
       "      <td>1</td>\n",
       "      <td>0</td>\n",
       "      <td>1</td>\n",
       "      <td>0</td>\n",
       "      <td>0</td>\n",
       "    </tr>\n",
       "    <tr>\n",
       "      <th>4</th>\n",
       "      <td>2</td>\n",
       "      <td>4.328540</td>\n",
       "      <td>1</td>\n",
       "      <td>6</td>\n",
       "      <td>1</td>\n",
       "      <td>0</td>\n",
       "      <td>0</td>\n",
       "      <td>0</td>\n",
       "      <td>0</td>\n",
       "      <td>1</td>\n",
       "      <td>0</td>\n",
       "      <td>0</td>\n",
       "      <td>0</td>\n",
       "      <td>0</td>\n",
       "      <td>1</td>\n",
       "      <td>0</td>\n",
       "      <td>0</td>\n",
       "    </tr>\n",
       "  </tbody>\n",
       "</table>\n",
       "</div>"
      ],
      "text/plain": [
       "   dropoff_month_no  distance  passenger_count  dropoff_hour  vendor_id  \\\n",
       "0                 2  1.199074                1            16          2   \n",
       "1                 3  4.129117                2            23          1   \n",
       "2                 2  7.250763                2            18          2   \n",
       "3                 1  2.361101                6            10          2   \n",
       "4                 2  4.328540                1             6          1   \n",
       "\n",
       "   store_and_fwd_flag_Y  pickup_day_Friday  pickup_day_Saturday  \\\n",
       "0                     0                  0                    0   \n",
       "1                     0                  1                    0   \n",
       "2                     0                  0                    0   \n",
       "3                     0                  0                    0   \n",
       "4                     0                  0                    0   \n",
       "\n",
       "   pickup_day_Thursday  pickup_day_Wednesday  dropoff_day_Monday  \\\n",
       "0                    0                     0                   1   \n",
       "1                    0                     0                   0   \n",
       "2                    0                     0                   0   \n",
       "3                    0                     0                   0   \n",
       "4                    0                     1                   0   \n",
       "\n",
       "   dropoff_day_Sunday  dropoff_day_Tuesday  pickup_timeofday_Afternoon  \\\n",
       "0                   0                    0                           0   \n",
       "1                   0                    0                           0   \n",
       "2                   1                    0                           0   \n",
       "3                   0                    1                           0   \n",
       "4                   0                    0                           0   \n",
       "\n",
       "   pickup_timeofday_Morning  dropoff_timeofday_Evening  \\\n",
       "0                         0                          1   \n",
       "1                         0                          0   \n",
       "2                         0                          1   \n",
       "3                         1                          0   \n",
       "4                         1                          0   \n",
       "\n",
       "   dropoff_timeofday_Late night  \n",
       "0                             0  \n",
       "1                             1  \n",
       "2                             0  \n",
       "3                             0  \n",
       "4                             0  "
      ]
     },
     "execution_count": 42,
     "metadata": {},
     "output_type": "execute_result"
    }
   ],
   "source": [
    "subset = data_model[sig_var['Variable'].values]\n",
    "subset.head()"
   ]
  },
  {
   "cell_type": "markdown",
   "id": "fd110f1b",
   "metadata": {},
   "source": [
    "#### Creating new subsets of data"
   ]
  },
  {
   "cell_type": "code",
   "execution_count": 43,
   "id": "065c8125",
   "metadata": {},
   "outputs": [
    {
     "data": {
      "text/plain": [
       "((729274, 31), (729274,))"
      ]
     },
     "execution_count": 43,
     "metadata": {},
     "output_type": "execute_result"
    }
   ],
   "source": [
    "#seperating independent and dependent variables\n",
    "x = data_model.drop(['trip_duration'], axis=1)\n",
    "y = data_model['trip_duration']\n",
    "x.shape, y.shape"
   ]
  },
  {
   "cell_type": "markdown",
   "id": "cb5fc0b1",
   "metadata": {},
   "source": [
    "#### Splitting the data into train set and the test set"
   ]
  },
  {
   "cell_type": "code",
   "execution_count": 44,
   "id": "ef19cd01",
   "metadata": {},
   "outputs": [],
   "source": [
    "# Importing the train test split function\n",
    "from sklearn.model_selection import train_test_split\n",
    "train_x,test_x,train_y,test_y = train_test_split(subset, y , random_state = 56)"
   ]
  },
  {
   "cell_type": "markdown",
   "id": "c746bbed",
   "metadata": {},
   "source": [
    "#### Implementing Linear Regression"
   ]
  },
  {
   "cell_type": "code",
   "execution_count": 45,
   "id": "dbc01854",
   "metadata": {},
   "outputs": [],
   "source": [
    "#importing Linear Regression and metric mean square error\n",
    "from sklearn.linear_model import LinearRegression as LR\n",
    "from sklearn.metrics import mean_absolute_error as mae"
   ]
  },
  {
   "cell_type": "markdown",
   "id": "f2a14129",
   "metadata": {},
   "source": [
    "#### Training Model - Part 2"
   ]
  },
  {
   "cell_type": "code",
   "execution_count": 46,
   "id": "6d39ca88",
   "metadata": {},
   "outputs": [
    {
     "data": {
      "text/html": [
       "<style>#sk-container-id-2 {color: black;background-color: white;}#sk-container-id-2 pre{padding: 0;}#sk-container-id-2 div.sk-toggleable {background-color: white;}#sk-container-id-2 label.sk-toggleable__label {cursor: pointer;display: block;width: 100%;margin-bottom: 0;padding: 0.3em;box-sizing: border-box;text-align: center;}#sk-container-id-2 label.sk-toggleable__label-arrow:before {content: \"▸\";float: left;margin-right: 0.25em;color: #696969;}#sk-container-id-2 label.sk-toggleable__label-arrow:hover:before {color: black;}#sk-container-id-2 div.sk-estimator:hover label.sk-toggleable__label-arrow:before {color: black;}#sk-container-id-2 div.sk-toggleable__content {max-height: 0;max-width: 0;overflow: hidden;text-align: left;background-color: #f0f8ff;}#sk-container-id-2 div.sk-toggleable__content pre {margin: 0.2em;color: black;border-radius: 0.25em;background-color: #f0f8ff;}#sk-container-id-2 input.sk-toggleable__control:checked~div.sk-toggleable__content {max-height: 200px;max-width: 100%;overflow: auto;}#sk-container-id-2 input.sk-toggleable__control:checked~label.sk-toggleable__label-arrow:before {content: \"▾\";}#sk-container-id-2 div.sk-estimator input.sk-toggleable__control:checked~label.sk-toggleable__label {background-color: #d4ebff;}#sk-container-id-2 div.sk-label input.sk-toggleable__control:checked~label.sk-toggleable__label {background-color: #d4ebff;}#sk-container-id-2 input.sk-hidden--visually {border: 0;clip: rect(1px 1px 1px 1px);clip: rect(1px, 1px, 1px, 1px);height: 1px;margin: -1px;overflow: hidden;padding: 0;position: absolute;width: 1px;}#sk-container-id-2 div.sk-estimator {font-family: monospace;background-color: #f0f8ff;border: 1px dotted black;border-radius: 0.25em;box-sizing: border-box;margin-bottom: 0.5em;}#sk-container-id-2 div.sk-estimator:hover {background-color: #d4ebff;}#sk-container-id-2 div.sk-parallel-item::after {content: \"\";width: 100%;border-bottom: 1px solid gray;flex-grow: 1;}#sk-container-id-2 div.sk-label:hover label.sk-toggleable__label {background-color: #d4ebff;}#sk-container-id-2 div.sk-serial::before {content: \"\";position: absolute;border-left: 1px solid gray;box-sizing: border-box;top: 0;bottom: 0;left: 50%;z-index: 0;}#sk-container-id-2 div.sk-serial {display: flex;flex-direction: column;align-items: center;background-color: white;padding-right: 0.2em;padding-left: 0.2em;position: relative;}#sk-container-id-2 div.sk-item {position: relative;z-index: 1;}#sk-container-id-2 div.sk-parallel {display: flex;align-items: stretch;justify-content: center;background-color: white;position: relative;}#sk-container-id-2 div.sk-item::before, #sk-container-id-2 div.sk-parallel-item::before {content: \"\";position: absolute;border-left: 1px solid gray;box-sizing: border-box;top: 0;bottom: 0;left: 50%;z-index: -1;}#sk-container-id-2 div.sk-parallel-item {display: flex;flex-direction: column;z-index: 1;position: relative;background-color: white;}#sk-container-id-2 div.sk-parallel-item:first-child::after {align-self: flex-end;width: 50%;}#sk-container-id-2 div.sk-parallel-item:last-child::after {align-self: flex-start;width: 50%;}#sk-container-id-2 div.sk-parallel-item:only-child::after {width: 0;}#sk-container-id-2 div.sk-dashed-wrapped {border: 1px dashed gray;margin: 0 0.4em 0.5em 0.4em;box-sizing: border-box;padding-bottom: 0.4em;background-color: white;}#sk-container-id-2 div.sk-label label {font-family: monospace;font-weight: bold;display: inline-block;line-height: 1.2em;}#sk-container-id-2 div.sk-label-container {text-align: center;}#sk-container-id-2 div.sk-container {/* jupyter's `normalize.less` sets `[hidden] { display: none; }` but bootstrap.min.css set `[hidden] { display: none !important; }` so we also need the `!important` here to be able to override the default hidden behavior on the sphinx rendered scikit-learn.org. See: https://github.com/scikit-learn/scikit-learn/issues/21755 */display: inline-block !important;position: relative;}#sk-container-id-2 div.sk-text-repr-fallback {display: none;}</style><div id=\"sk-container-id-2\" class=\"sk-top-container\"><div class=\"sk-text-repr-fallback\"><pre>LinearRegression()</pre><b>In a Jupyter environment, please rerun this cell to show the HTML representation or trust the notebook. <br />On GitHub, the HTML representation is unable to render, please try loading this page with nbviewer.org.</b></div><div class=\"sk-container\" hidden><div class=\"sk-item\"><div class=\"sk-estimator sk-toggleable\"><input class=\"sk-toggleable__control sk-hidden--visually\" id=\"sk-estimator-id-2\" type=\"checkbox\" checked><label for=\"sk-estimator-id-2\" class=\"sk-toggleable__label sk-toggleable__label-arrow\">LinearRegression</label><div class=\"sk-toggleable__content\"><pre>LinearRegression()</pre></div></div></div></div></div>"
      ],
      "text/plain": [
       "LinearRegression()"
      ]
     },
     "execution_count": 46,
     "metadata": {},
     "output_type": "execute_result"
    }
   ],
   "source": [
    "# Creating instance of Linear Regresssion\n",
    "lr = LR()\n",
    "\n",
    "# Fitting the model\n",
    "lr.fit(train_x, train_y)"
   ]
  },
  {
   "cell_type": "markdown",
   "id": "2789fc5c",
   "metadata": {},
   "source": [
    "#### Predicting over the train set"
   ]
  },
  {
   "cell_type": "code",
   "execution_count": 47,
   "id": "a823d76e",
   "metadata": {},
   "outputs": [
    {
     "name": "stdout",
     "output_type": "stream",
     "text": [
      "Training Mean Absolute Error 446.90408212738254\n"
     ]
    }
   ],
   "source": [
    "# Predicting over the Train Set and calculating error\n",
    "train_predict = lr.predict(train_x)\n",
    "k = mae(train_predict, train_y)\n",
    "print('Training Mean Absolute Error', k )"
   ]
  },
  {
   "cell_type": "markdown",
   "id": "ac7b7995",
   "metadata": {},
   "source": [
    "#### Predicting over the test set"
   ]
  },
  {
   "cell_type": "code",
   "execution_count": 48,
   "id": "70f83594",
   "metadata": {},
   "outputs": [
    {
     "name": "stdout",
     "output_type": "stream",
     "text": [
      "Test Mean Absolute Error     458.8380411344533\n"
     ]
    }
   ],
   "source": [
    "# Predicting over the Test Set and calculating error\n",
    "test_predict = lr.predict(test_x)\n",
    "k = mae(test_predict, test_y)\n",
    "print('Test Mean Absolute Error ', k )"
   ]
  },
  {
   "cell_type": "markdown",
   "id": "edfa7798",
   "metadata": {},
   "source": [
    "#### Plotting the coefficients"
   ]
  },
  {
   "cell_type": "code",
   "execution_count": 50,
   "id": "eb573eb9",
   "metadata": {
    "scrolled": false
   },
   "outputs": [
    {
     "data": {
      "text/plain": [
       "Text(0.5, 1.0, 'Coefficient plot')"
      ]
     },
     "execution_count": 50,
     "metadata": {},
     "output_type": "execute_result"
    },
    {
     "data": {
      "image/png": "[encoded data removed]",
      "text/plain": [
       "<Figure size 640x480 with 1 Axes>"
      ]
     },
     "metadata": {},
     "output_type": "display_data"
    }
   ],
   "source": [
    "x = range(len(train_x.columns))\n",
    "y = lr.coef_\n",
    "plt.bar( x, y )\n",
    "plt.xlabel( \"Variables\")\n",
    "plt.ylabel('Coefficients')\n",
    "plt.title('Coefficient plot')"
   ]
  }
 ],
 "metadata": {
  "kernelspec": {
   "display_name": "Python 3 (ipykernel)",
   "language": "python",
   "name": "python3"
  },
  "language_info": {
   "codemirror_mode": {
    "name": "ipython",
    "version": 3
   },
   "file_extension": ".py",
   "mimetype": "text/x-python",
   "name": "python",
   "nbconvert_exporter": "python",
   "pygments_lexer": "ipython3",
   "version": "3.11.1"
  }
 },
 "nbformat": 4,
 "nbformat_minor": 5
}
