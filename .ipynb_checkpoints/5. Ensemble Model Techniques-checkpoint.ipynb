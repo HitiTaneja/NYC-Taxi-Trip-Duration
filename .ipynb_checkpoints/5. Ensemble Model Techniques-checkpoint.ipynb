{
 "cells": [
  {
   "cell_type": "markdown",
   "metadata": {},
   "source": [
    "## NYC Taxi Trip Duration (Ensemble Learning)\n",
    "\n",
    "Now, that we have seen the Exploration and have a good understanding of data shape and structure.\n",
    "* We also looked at firstly the basic models such as decision tree and linear regression.\n",
    "* We created some features using the existing features in the dataset and also some features using external data\n",
    "\n",
    "In this Notebook, we will cover the different ensemble methods and check if we can do better given the same set of features that we had created. Ensemble Techniques covered:\n",
    "\n",
    "* Random Forest\n",
    "* XGBoost (Gradient Boosting)\n",
    "* Averaging Predictions\n",
    "* Stacking\n",
    "\n",
    "Finally, we will compare the results of these models and conclude with some other ideas for additional features that can be integrated to improve performance."
   ]
  },
  {
   "cell_type": "markdown",
   "metadata": {},
   "source": [
    "## Data Dictionary\n",
    "It is always a good idea to have the data dictionary handy.\n",
    "\n",
    " - **id** - a unique identifier for each trip\n",
    " - **vendor_id** - a code indicating the provider associated with the trip record\n",
    " - **pickup_datetime** - date and time when the meter was engaged\n",
    " - **dropoff_datetime** - date and time when the meter was disengaged\n",
    " - **passenger_count** - the number of passengers in the vehicle (driver entered value)\n",
    " - **pickup_longitude** - the longitude where the meter was engaged\n",
    " - **pickup_latitude** - the latitude where the meter was engaged\n",
    " - **dropoff_longitude** - the longitude where the meter was disengaged\n",
    " - **dropoff_latitude** - the latitude where the meter was disengaged\n",
    " - **store_and_fwd_flag** - This flag indicates whether the trip record was held in vehicle memory before sending to the vendor because the vehicle did not have a connection to the server (Y=store and forward; N=not a store and forward trip)\n",
    " - **trip_duration** - duration of the trip in seconds\n",
    "\n",
    "Here dropoff_datetime and trip_duration are only available for the df set as that represents the target"
   ]
  },
  {
   "cell_type": "markdown",
   "metadata": {},
   "source": [
    "### Load Libraries\n",
    "We will load libraries required to build models and validation sets"
   ]
  },
  {
   "cell_type": "code",
   "execution_count": 1,
   "metadata": {},
   "outputs": [],
   "source": [
    "%matplotlib inline\n",
    "import numpy as np \n",
    "import pandas as pd\n",
    "import datetime as dt\n",
    "import matplotlib.pyplot as plt\n",
    "\n",
    "from sklearn.model_selection import train_test_split\n",
    "\n",
    "import warnings\n",
    "warnings.filterwarnings('ignore')\n",
    "\n",
    "from sklearn.linear_model import LinearRegression, Ridge\n",
    "from sklearn.tree import DecisionTreeRegressor\n",
    "from sklearn.model_selection import KFold\n",
    "from sklearn.ensemble import RandomForestRegressor\n",
    "from sklearn.metrics import mean_squared_error\n",
    "import xgboost as xgb"
   ]
  },
  {
   "cell_type": "markdown",
   "metadata": {},
   "source": [
    "### Load Data & Preprocessing"
   ]
  },
  {
   "cell_type": "code",
   "execution_count": 2,
   "metadata": {},
   "outputs": [],
   "source": [
    "df = pd.read_csv('dataset/nyc_taxi_trip_duration.csv')"
   ]
  },
  {
   "cell_type": "code",
   "execution_count": 3,
   "metadata": {},
   "outputs": [],
   "source": [
    "# converting strings to datetime features\n",
    "df['pickup_datetime'] = pd.to_datetime(df.pickup_datetime)\n",
    "df['dropoff_datetime'] = pd.to_datetime(df.dropoff_datetime)"
   ]
  },
  {
   "cell_type": "code",
   "execution_count": 4,
   "metadata": {},
   "outputs": [],
   "source": [
    "# Log transform the Y values\n",
    "df_y = np.log1p(df['trip_duration'])\n",
    "\n",
    "# Add some datetime features\n",
    "df.loc[:, 'pickup_weekday'] = df['pickup_datetime'].dt.weekday\n",
    "df.loc[:, 'pickup_hour_weekofyear'] = df['pickup_datetime'].dt.weekofyear\n",
    "df.loc[:, 'pickup_hour'] = df['pickup_datetime'].dt.hour\n",
    "df.loc[:, 'pickup_minute'] = df['pickup_datetime'].dt.minute\n",
    "df.loc[:, 'pickup_dt'] = (df['pickup_datetime'] - df['pickup_datetime'].min()).dt.total_seconds()\n",
    "df.loc[:, 'pickup_week_hour'] = df['pickup_weekday'] * 24 + df['pickup_hour']\n"
   ]
  },
  {
   "cell_type": "markdown",
   "metadata": {},
   "source": [
    "### Feature Engineering"
   ]
  },
  {
   "cell_type": "markdown",
   "metadata": {},
   "source": [
    "#### Eucledian Distance"
   ]
  },
  {
   "cell_type": "code",
   "execution_count": 5,
   "metadata": {},
   "outputs": [],
   "source": [
    "\n",
    "#displacement\n",
    "y_dist= df['pickup_longitude'] - df['dropoff_longitude']\n",
    "x_dist = df['pickup_latitude'] - df['dropoff_latitude']\n",
    "\n",
    "#square distance\n",
    "df['dist_sq'] = (y_dist ** 2) + (x_dist ** 2)\n",
    "\n",
    "#distance\n",
    "df['dist_sqrt'] = df['dist_sq'] ** 0.5\n",
    "\n"
   ]
  },
  {
   "cell_type": "markdown",
   "metadata": {},
   "source": [
    "#### Haversine Distance"
   ]
  },
  {
   "cell_type": "code",
   "execution_count": 6,
   "metadata": {},
   "outputs": [],
   "source": [
    "def haversine_array(lat1, lng1, lat2, lng2):\n",
    "    lat1, lng1, lat2, lng2 = map(np.radians, (lat1, lng1, lat2, lng2))\n",
    "    AVG_EARTH_RADIUS = 6371  # in km\n",
    "    lat = lat2 - lat1\n",
    "    lng = lng2 - lng1\n",
    "    d = np.sin(lat * 0.5) ** 2 + np.cos(lat1) * np.cos(lat2) * np.sin(lng * 0.5) ** 2\n",
    "    h = 2 * AVG_EARTH_RADIUS * np.arcsin(np.sqrt(d))\n",
    "    return h\n",
    "\n",
    "def direction_array(lat1, lng1, lat2, lng2):\n",
    "    AVG_EARTH_RADIUS = 6371  # in km\n",
    "    lng_delta_rad = np.radians(lng2 - lng1)\n",
    "    lat1, lng1, lat2, lng2 = map(np.radians, (lat1, lng1, lat2, lng2))\n",
    "    y = np.sin(lng_delta_rad) * np.cos(lat2)\n",
    "    x = np.cos(lat1) * np.sin(lat2) - np.sin(lat1) * np.cos(lat2) * np.cos(lng_delta_rad)\n",
    "    return np.degrees(np.arctan2(y, x))\n",
    "\n",
    "\n",
    "df['haversine_distance'] = haversine_array(df['pickup_latitude'].values, \n",
    "                                                     df['pickup_longitude'].values, \n",
    "                                                     df['dropoff_latitude'].values, \n",
    "                                                     df['dropoff_longitude'].values)\n",
    "\n",
    "\n",
    "df['direction'] = direction_array(df['pickup_latitude'].values, \n",
    "                                          df['pickup_longitude'].values, \n",
    "                                          df['dropoff_latitude'].values, \n",
    "                                          df['dropoff_longitude'].values)\n"
   ]
  },
  {
   "cell_type": "markdown",
   "metadata": {},
   "source": [
    "#### Fastest route"
   ]
  },
  {
   "cell_type": "code",
   "execution_count": 8,
   "metadata": {},
   "outputs": [
    {
     "data": {
      "text/html": [
       "<div>\n",
       "<style scoped>\n",
       "    .dataframe tbody tr th:only-of-type {\n",
       "        vertical-align: middle;\n",
       "    }\n",
       "\n",
       "    .dataframe tbody tr th {\n",
       "        vertical-align: top;\n",
       "    }\n",
       "\n",
       "    .dataframe thead th {\n",
       "        text-align: right;\n",
       "    }\n",
       "</style>\n",
       "<table border=\"1\" class=\"dataframe\">\n",
       "  <thead>\n",
       "    <tr style=\"text-align: right;\">\n",
       "      <th></th>\n",
       "      <th>id</th>\n",
       "      <th>total_distance</th>\n",
       "      <th>total_travel_time</th>\n",
       "    </tr>\n",
       "  </thead>\n",
       "  <tbody>\n",
       "    <tr>\n",
       "      <th>0</th>\n",
       "      <td>id2875421</td>\n",
       "      <td>2009.1</td>\n",
       "      <td>164.9</td>\n",
       "    </tr>\n",
       "    <tr>\n",
       "      <th>1</th>\n",
       "      <td>id2377394</td>\n",
       "      <td>2513.2</td>\n",
       "      <td>332.0</td>\n",
       "    </tr>\n",
       "    <tr>\n",
       "      <th>2</th>\n",
       "      <td>id3504673</td>\n",
       "      <td>1779.4</td>\n",
       "      <td>235.8</td>\n",
       "    </tr>\n",
       "    <tr>\n",
       "      <th>3</th>\n",
       "      <td>id2181028</td>\n",
       "      <td>1614.9</td>\n",
       "      <td>140.1</td>\n",
       "    </tr>\n",
       "    <tr>\n",
       "      <th>4</th>\n",
       "      <td>id0801584</td>\n",
       "      <td>1393.5</td>\n",
       "      <td>189.4</td>\n",
       "    </tr>\n",
       "  </tbody>\n",
       "</table>\n",
       "</div>"
      ],
      "text/plain": [
       "          id  total_distance  total_travel_time\n",
       "0  id2875421          2009.1              164.9\n",
       "1  id2377394          2513.2              332.0\n",
       "2  id3504673          1779.4              235.8\n",
       "3  id2181028          1614.9              140.1\n",
       "4  id0801584          1393.5              189.4"
      ]
     },
     "execution_count": 8,
     "metadata": {},
     "output_type": "execute_result"
    }
   ],
   "source": [
    "fr1 = pd.read_csv('Dataset/osrm/fastest_routes_train_part_1.zip',\n",
    "                  usecols=['id', 'total_distance', 'total_travel_time'])\n",
    "fr2 = pd.read_csv('Dataset/osrm/fastest_routes_train_part_2.zip',\n",
    "                  usecols=['id', 'total_distance', 'total_travel_time'])\n",
    "\n",
    "df_street_info = pd.concat((fr1, fr2))\n",
    "df = df.merge(df_street_info, how='left', on='id')\n",
    "\n",
    "df_street_info.head()"
   ]
  },
  {
   "cell_type": "markdown",
   "metadata": {},
   "source": [
    "### Binning"
   ]
  },
  {
   "cell_type": "code",
   "execution_count": 9,
   "metadata": {},
   "outputs": [],
   "source": [
    "### Binned Coordinates ###\n",
    "df['pickup_latitude_round3'] = np.round(df['pickup_latitude'],3)\n",
    "df['pickup_longitude_round3'] = np.round(df['pickup_longitude'],3)\n",
    "\n",
    "df['dropoff_latitude_round3'] = np.round(df['dropoff_latitude'],3)\n",
    "df['dropoff_longitude_round3'] = np.round(df['dropoff_longitude'],3)"
   ]
  },
  {
   "cell_type": "markdown",
   "metadata": {},
   "source": [
    "#### One Hot Encoding"
   ]
  },
  {
   "cell_type": "code",
   "execution_count": 10,
   "metadata": {},
   "outputs": [
    {
     "data": {
      "text/plain": [
       "2    390481\n",
       "1    338841\n",
       "Name: vendor_id, dtype: int64"
      ]
     },
     "execution_count": 10,
     "metadata": {},
     "output_type": "execute_result"
    }
   ],
   "source": [
    "df.vendor_id.value_counts()"
   ]
  },
  {
   "cell_type": "code",
   "execution_count": 11,
   "metadata": {},
   "outputs": [],
   "source": [
    "df['vendor_id'] = df['vendor_id'] - 1 # For encoding"
   ]
  },
  {
   "cell_type": "code",
   "execution_count": 12,
   "metadata": {},
   "outputs": [],
   "source": [
    "# For a route, the total distance and travel time are not available. Let's impute that with 0\n",
    "df.fillna(0, inplace = True)"
   ]
  },
  {
   "cell_type": "code",
   "execution_count": 13,
   "metadata": {},
   "outputs": [],
   "source": [
    "df = df.drop(['id', 'pickup_datetime', 'dropoff_datetime', 'trip_duration','store_and_fwd_flag'], axis=1)"
   ]
  },
  {
   "cell_type": "markdown",
   "metadata": {},
   "source": [
    "## Model Building"
   ]
  },
  {
   "cell_type": "markdown",
   "metadata": {},
   "source": [
    "Now, before we go on to build the model, let us look at the dataset."
   ]
  },
  {
   "cell_type": "code",
   "execution_count": 14,
   "metadata": {},
   "outputs": [
    {
     "data": {
      "text/html": [
       "<div>\n",
       "<style scoped>\n",
       "    .dataframe tbody tr th:only-of-type {\n",
       "        vertical-align: middle;\n",
       "    }\n",
       "\n",
       "    .dataframe tbody tr th {\n",
       "        vertical-align: top;\n",
       "    }\n",
       "\n",
       "    .dataframe thead th {\n",
       "        text-align: right;\n",
       "    }\n",
       "</style>\n",
       "<table border=\"1\" class=\"dataframe\">\n",
       "  <thead>\n",
       "    <tr style=\"text-align: right;\">\n",
       "      <th></th>\n",
       "      <th>vendor_id</th>\n",
       "      <th>passenger_count</th>\n",
       "      <th>pickup_longitude</th>\n",
       "      <th>pickup_latitude</th>\n",
       "      <th>dropoff_longitude</th>\n",
       "      <th>dropoff_latitude</th>\n",
       "      <th>pickup_weekday</th>\n",
       "      <th>pickup_hour_weekofyear</th>\n",
       "      <th>pickup_hour</th>\n",
       "      <th>pickup_minute</th>\n",
       "      <th>...</th>\n",
       "      <th>dist_sq</th>\n",
       "      <th>dist_sqrt</th>\n",
       "      <th>haversine_distance</th>\n",
       "      <th>direction</th>\n",
       "      <th>total_distance</th>\n",
       "      <th>total_travel_time</th>\n",
       "      <th>pickup_latitude_round3</th>\n",
       "      <th>pickup_longitude_round3</th>\n",
       "      <th>dropoff_latitude_round3</th>\n",
       "      <th>dropoff_longitude_round3</th>\n",
       "    </tr>\n",
       "  </thead>\n",
       "  <tbody>\n",
       "    <tr>\n",
       "      <th>0</th>\n",
       "      <td>1</td>\n",
       "      <td>1</td>\n",
       "      <td>-73.953918</td>\n",
       "      <td>40.778873</td>\n",
       "      <td>-73.963875</td>\n",
       "      <td>40.771164</td>\n",
       "      <td>0</td>\n",
       "      <td>9</td>\n",
       "      <td>16</td>\n",
       "      <td>40</td>\n",
       "      <td>...</td>\n",
       "      <td>0.000159</td>\n",
       "      <td>0.012592</td>\n",
       "      <td>1.199073</td>\n",
       "      <td>-135.634530</td>\n",
       "      <td>1630.9</td>\n",
       "      <td>172.5</td>\n",
       "      <td>40.779</td>\n",
       "      <td>-73.954</td>\n",
       "      <td>40.771</td>\n",
       "      <td>-73.964</td>\n",
       "    </tr>\n",
       "    <tr>\n",
       "      <th>1</th>\n",
       "      <td>0</td>\n",
       "      <td>2</td>\n",
       "      <td>-73.988312</td>\n",
       "      <td>40.731743</td>\n",
       "      <td>-73.994751</td>\n",
       "      <td>40.694931</td>\n",
       "      <td>4</td>\n",
       "      <td>10</td>\n",
       "      <td>23</td>\n",
       "      <td>35</td>\n",
       "      <td>...</td>\n",
       "      <td>0.001397</td>\n",
       "      <td>0.037371</td>\n",
       "      <td>4.129111</td>\n",
       "      <td>-172.445217</td>\n",
       "      <td>5428.7</td>\n",
       "      <td>581.8</td>\n",
       "      <td>40.732</td>\n",
       "      <td>-73.988</td>\n",
       "      <td>40.695</td>\n",
       "      <td>-73.995</td>\n",
       "    </tr>\n",
       "    <tr>\n",
       "      <th>2</th>\n",
       "      <td>1</td>\n",
       "      <td>2</td>\n",
       "      <td>-73.997314</td>\n",
       "      <td>40.721458</td>\n",
       "      <td>-73.948029</td>\n",
       "      <td>40.774918</td>\n",
       "      <td>6</td>\n",
       "      <td>7</td>\n",
       "      <td>17</td>\n",
       "      <td>59</td>\n",
       "      <td>...</td>\n",
       "      <td>0.005287</td>\n",
       "      <td>0.072712</td>\n",
       "      <td>7.250753</td>\n",
       "      <td>34.916093</td>\n",
       "      <td>9327.8</td>\n",
       "      <td>748.9</td>\n",
       "      <td>40.721</td>\n",
       "      <td>-73.997</td>\n",
       "      <td>40.775</td>\n",
       "      <td>-73.948</td>\n",
       "    </tr>\n",
       "    <tr>\n",
       "      <th>3</th>\n",
       "      <td>1</td>\n",
       "      <td>6</td>\n",
       "      <td>-73.961670</td>\n",
       "      <td>40.759720</td>\n",
       "      <td>-73.956779</td>\n",
       "      <td>40.780628</td>\n",
       "      <td>1</td>\n",
       "      <td>1</td>\n",
       "      <td>9</td>\n",
       "      <td>44</td>\n",
       "      <td>...</td>\n",
       "      <td>0.000461</td>\n",
       "      <td>0.021473</td>\n",
       "      <td>2.361097</td>\n",
       "      <td>10.043567</td>\n",
       "      <td>8022.7</td>\n",
       "      <td>612.2</td>\n",
       "      <td>40.760</td>\n",
       "      <td>-73.962</td>\n",
       "      <td>40.781</td>\n",
       "      <td>-73.957</td>\n",
       "    </tr>\n",
       "    <tr>\n",
       "      <th>4</th>\n",
       "      <td>0</td>\n",
       "      <td>1</td>\n",
       "      <td>-74.017120</td>\n",
       "      <td>40.708469</td>\n",
       "      <td>-73.988182</td>\n",
       "      <td>40.740631</td>\n",
       "      <td>2</td>\n",
       "      <td>7</td>\n",
       "      <td>6</td>\n",
       "      <td>42</td>\n",
       "      <td>...</td>\n",
       "      <td>0.001872</td>\n",
       "      <td>0.043264</td>\n",
       "      <td>4.328534</td>\n",
       "      <td>34.280582</td>\n",
       "      <td>5468.7</td>\n",
       "      <td>645.0</td>\n",
       "      <td>40.708</td>\n",
       "      <td>-74.017</td>\n",
       "      <td>40.741</td>\n",
       "      <td>-73.988</td>\n",
       "    </tr>\n",
       "  </tbody>\n",
       "</table>\n",
       "<p>5 rows × 22 columns</p>\n",
       "</div>"
      ],
      "text/plain": [
       "   vendor_id  passenger_count  pickup_longitude  pickup_latitude  \\\n",
       "0          1                1        -73.953918        40.778873   \n",
       "1          0                2        -73.988312        40.731743   \n",
       "2          1                2        -73.997314        40.721458   \n",
       "3          1                6        -73.961670        40.759720   \n",
       "4          0                1        -74.017120        40.708469   \n",
       "\n",
       "   dropoff_longitude  dropoff_latitude  pickup_weekday  \\\n",
       "0         -73.963875         40.771164               0   \n",
       "1         -73.994751         40.694931               4   \n",
       "2         -73.948029         40.774918               6   \n",
       "3         -73.956779         40.780628               1   \n",
       "4         -73.988182         40.740631               2   \n",
       "\n",
       "   pickup_hour_weekofyear  pickup_hour  pickup_minute  ...   dist_sq  \\\n",
       "0                       9           16             40  ...  0.000159   \n",
       "1                      10           23             35  ...  0.001397   \n",
       "2                       7           17             59  ...  0.005287   \n",
       "3                       1            9             44  ...  0.000461   \n",
       "4                       7            6             42  ...  0.001872   \n",
       "\n",
       "   dist_sqrt  haversine_distance   direction  total_distance  \\\n",
       "0   0.012592            1.199073 -135.634530          1630.9   \n",
       "1   0.037371            4.129111 -172.445217          5428.7   \n",
       "2   0.072712            7.250753   34.916093          9327.8   \n",
       "3   0.021473            2.361097   10.043567          8022.7   \n",
       "4   0.043264            4.328534   34.280582          5468.7   \n",
       "\n",
       "   total_travel_time  pickup_latitude_round3  pickup_longitude_round3  \\\n",
       "0              172.5                  40.779                  -73.954   \n",
       "1              581.8                  40.732                  -73.988   \n",
       "2              748.9                  40.721                  -73.997   \n",
       "3              612.2                  40.760                  -73.962   \n",
       "4              645.0                  40.708                  -74.017   \n",
       "\n",
       "   dropoff_latitude_round3  dropoff_longitude_round3  \n",
       "0                   40.771                   -73.964  \n",
       "1                   40.695                   -73.995  \n",
       "2                   40.775                   -73.948  \n",
       "3                   40.781                   -73.957  \n",
       "4                   40.741                   -73.988  \n",
       "\n",
       "[5 rows x 22 columns]"
      ]
     },
     "execution_count": 14,
     "metadata": {},
     "output_type": "execute_result"
    }
   ],
   "source": [
    "df.head()"
   ]
  },
  {
   "cell_type": "markdown",
   "metadata": {},
   "source": [
    "### Cross validation\n",
    "\n",
    "We will again use a similar function for cross validation as previously done to check performance of various ensemble models."
   ]
  },
  {
   "cell_type": "code",
   "execution_count": 15,
   "metadata": {},
   "outputs": [],
   "source": [
    "from math import sqrt\n",
    "def cv_score(ml_model, rstate = 11,cols = df.columns):\n",
    "    i = 1\n",
    "    cv_scores = []\n",
    "    df1 = df.copy()\n",
    "    df1 = df[cols]\n",
    "    \n",
    "    kf = KFold(n_splits=5,random_state=rstate,shuffle=True)\n",
    "    for train_index,test_index in kf.split(df1,df_y):\n",
    "        print('\\n{} of kfold {}'.format(i,kf.n_splits))\n",
    "        xtr,xvl = df1.loc[train_index].values,df1.loc[test_index].values\n",
    "        ytr,yvl = df_y[train_index].values,df_y[test_index].values\n",
    "\n",
    "        model = ml_model\n",
    "        model.fit(xtr, ytr)\n",
    "        train_val = model.predict(xtr)\n",
    "        pred_val = model.predict(xvl)\n",
    "        rmse_score_train = sqrt(mean_squared_error(ytr, train_val))\n",
    "        rmse_score = sqrt(mean_squared_error(yvl, pred_val))\n",
    "        sufix = \"\"\n",
    "        msg = \"\"\n",
    "        #msg += \"Train RMSE: {:.5f} \".format(rmse_score_train)\n",
    "        msg += \"Valid RMSE: {:.5f}\".format(rmse_score)\n",
    "        print(\"{}\".format(msg))\n",
    "        # Save scores\n",
    "        cv_scores.append(rmse_score)\n",
    "        i+=1\n",
    "    return cv_scores"
   ]
  },
  {
   "cell_type": "markdown",
   "metadata": {},
   "source": [
    "## Ensemble Models\n",
    "Now that we have seen the performance of individual models, we have noted that decision tree has far better performance than other algorithms and it would be a good idea to try decision tree based ensemble models to check whether we improve on existing decision tree model or not."
   ]
  },
  {
   "cell_type": "markdown",
   "metadata": {},
   "source": [
    "### Random Forest\n",
    "\n",
    "Random forests are an ensemble learning method for classification and regression that operates by constructing a multitude of decision trees at training time and outputting the class that is the mode of the classes (classification) or mean prediction (regression) of the individual trees.\n",
    "\n",
    "Considering that we got a much more improved performance with decision trees. It is worthwhile to check tree based ensemble techniques."
   ]
  },
  {
   "cell_type": "code",
   "execution_count": 16,
   "metadata": {
    "scrolled": true
   },
   "outputs": [
    {
     "name": "stdout",
     "output_type": "stream",
     "text": [
      "\n",
      "1 of kfold 5\n",
      "Valid RMSE: 0.41882\n",
      "\n",
      "2 of kfold 5\n",
      "Valid RMSE: 0.42053\n",
      "\n",
      "3 of kfold 5\n",
      "Valid RMSE: 0.41126\n",
      "\n",
      "4 of kfold 5\n",
      "Valid RMSE: 0.41595\n",
      "\n",
      "5 of kfold 5\n",
      "Valid RMSE: 0.41308\n"
     ]
    }
   ],
   "source": [
    "rf_params = {'random_state': 0, 'n_estimators': 19, 'max_depth': 11, 'n_jobs': -1, \"min_samples_split\": 43}\n",
    "rf_scores = cv_score(RandomForestRegressor(**rf_params))"
   ]
  },
  {
   "cell_type": "markdown",
   "metadata": {},
   "source": [
    "## XGBoost\n",
    "Looking at the performance of Random forest, it would be a good idea to try XGBoost which is based on gradient boosting techniques and check performance. \n",
    "\n",
    "* First we will set the  hyperparameters for XGBoost and use cross validation to track and figure out the correct number of rounds so that it does not overfit.\n",
    "\n",
    "* Later, we will fit the XGBoost Regressor using the number of rounds identified from the above step and check the cross validation scores\n",
    "\n",
    "To find the approximate number of rounds for XGBoost, we will first create a validation set and check performance after each round.\n"
   ]
  },
  {
   "cell_type": "code",
   "execution_count": 17,
   "metadata": {},
   "outputs": [],
   "source": [
    "#Splitting the data into df and Validation set\n",
    "xtrain, xtest, ytrain, ytest = train_test_split(df,df_y,test_size=1/3, random_state=0)"
   ]
  },
  {
   "cell_type": "code",
   "execution_count": 18,
   "metadata": {},
   "outputs": [],
   "source": [
    "dtrain = xgb.DMatrix(xtrain, label=ytrain)\n",
    "dvalid = xgb.DMatrix(xtest, label=ytest)\n",
    "\n",
    "watchlist = [(dtrain, 'train'), (dvalid, 'valid')]"
   ]
  },
  {
   "cell_type": "markdown",
   "metadata": {},
   "source": [
    "Finally! We're ready to use XGBoost. You'll notice that this part is actually quite short. But only in code. It can take quite a while to iterate through the different parameters and different values of these parameters to better the outcome of the model. There are several ways to do this and we will cover this in a later module."
   ]
  },
  {
   "cell_type": "code",
   "execution_count": 19,
   "metadata": {
    "scrolled": true
   },
   "outputs": [
    {
     "name": "stdout",
     "output_type": "stream",
     "text": [
      "[14:29:55] WARNING: C:\\buildkite-agent\\builds\\buildkite-windows-cpu-autoscaling-group-i-07593ffd91cd9da33-1\\xgboost\\xgboost-ci-windows\\src\\objective\\regression_obj.cu:213: reg:linear is now deprecated in favor of reg:squarederror.\n",
      "[14:29:55] WARNING: C:\\buildkite-agent\\builds\\buildkite-windows-cpu-autoscaling-group-i-07593ffd91cd9da33-1\\xgboost\\xgboost-ci-windows\\src\\learner.cc:767: \n",
      "Parameters: { \"silent\" } are not used.\n",
      "\n",
      "[0]\ttrain-rmse:5.72173\tvalid-rmse:5.71901\n",
      "[20]\ttrain-rmse:2.09492\tvalid-rmse:2.09422\n",
      "[40]\ttrain-rmse:0.85391\tvalid-rmse:0.85555\n",
      "[60]\ttrain-rmse:0.49984\tvalid-rmse:0.50429\n",
      "[80]\ttrain-rmse:0.42628\tvalid-rmse:0.43229\n",
      "[100]\ttrain-rmse:0.41066\tvalid-rmse:0.41731\n",
      "[120]\ttrain-rmse:0.40489\tvalid-rmse:0.41203\n",
      "[140]\ttrain-rmse:0.40087\tvalid-rmse:0.40857\n",
      "[160]\ttrain-rmse:0.39789\tvalid-rmse:0.40606\n",
      "[180]\ttrain-rmse:0.39538\tvalid-rmse:0.40401\n",
      "[200]\ttrain-rmse:0.39309\tvalid-rmse:0.40226\n",
      "[220]\ttrain-rmse:0.39117\tvalid-rmse:0.40081\n",
      "[240]\ttrain-rmse:0.38968\tvalid-rmse:0.39965\n",
      "[260]\ttrain-rmse:0.38828\tvalid-rmse:0.39872\n",
      "[280]\ttrain-rmse:0.38705\tvalid-rmse:0.39783\n",
      "[300]\ttrain-rmse:0.38592\tvalid-rmse:0.39704\n",
      "[320]\ttrain-rmse:0.38487\tvalid-rmse:0.39646\n",
      "[340]\ttrain-rmse:0.38386\tvalid-rmse:0.39588\n",
      "[360]\ttrain-rmse:0.38287\tvalid-rmse:0.39528\n",
      "[380]\ttrain-rmse:0.38188\tvalid-rmse:0.39480\n",
      "[400]\ttrain-rmse:0.38087\tvalid-rmse:0.39434\n",
      "[420]\ttrain-rmse:0.38006\tvalid-rmse:0.39389\n",
      "[440]\ttrain-rmse:0.37936\tvalid-rmse:0.39364\n",
      "[460]\ttrain-rmse:0.37863\tvalid-rmse:0.39338\n",
      "[480]\ttrain-rmse:0.37778\tvalid-rmse:0.39310\n",
      "[500]\ttrain-rmse:0.37708\tvalid-rmse:0.39289\n",
      "[520]\ttrain-rmse:0.37639\tvalid-rmse:0.39266\n",
      "[540]\ttrain-rmse:0.37571\tvalid-rmse:0.39232\n",
      "[560]\ttrain-rmse:0.37503\tvalid-rmse:0.39209\n",
      "[580]\ttrain-rmse:0.37449\tvalid-rmse:0.39182\n",
      "[600]\ttrain-rmse:0.37381\tvalid-rmse:0.39155\n",
      "[620]\ttrain-rmse:0.37310\tvalid-rmse:0.39121\n",
      "[640]\ttrain-rmse:0.37241\tvalid-rmse:0.39094\n",
      "[660]\ttrain-rmse:0.37185\tvalid-rmse:0.39068\n",
      "[680]\ttrain-rmse:0.37137\tvalid-rmse:0.39052\n",
      "[700]\ttrain-rmse:0.37083\tvalid-rmse:0.39033\n",
      "[720]\ttrain-rmse:0.37035\tvalid-rmse:0.39019\n",
      "[740]\ttrain-rmse:0.36994\tvalid-rmse:0.39005\n",
      "[760]\ttrain-rmse:0.36937\tvalid-rmse:0.38986\n",
      "[780]\ttrain-rmse:0.36889\tvalid-rmse:0.38974\n",
      "[800]\ttrain-rmse:0.36840\tvalid-rmse:0.38955\n",
      "[820]\ttrain-rmse:0.36787\tvalid-rmse:0.38937\n",
      "[840]\ttrain-rmse:0.36737\tvalid-rmse:0.38915\n",
      "[860]\ttrain-rmse:0.36696\tvalid-rmse:0.38907\n",
      "[880]\ttrain-rmse:0.36653\tvalid-rmse:0.38892\n",
      "[900]\ttrain-rmse:0.36618\tvalid-rmse:0.38883\n",
      "[920]\ttrain-rmse:0.36576\tvalid-rmse:0.38876\n",
      "[940]\ttrain-rmse:0.36535\tvalid-rmse:0.38869\n",
      "[960]\ttrain-rmse:0.36502\tvalid-rmse:0.38863\n",
      "[980]\ttrain-rmse:0.36459\tvalid-rmse:0.38849\n",
      "[1000]\ttrain-rmse:0.36425\tvalid-rmse:0.38840\n",
      "[1020]\ttrain-rmse:0.36389\tvalid-rmse:0.38832\n",
      "[1040]\ttrain-rmse:0.36349\tvalid-rmse:0.38825\n",
      "[1060]\ttrain-rmse:0.36309\tvalid-rmse:0.38812\n",
      "[1080]\ttrain-rmse:0.36262\tvalid-rmse:0.38795\n",
      "[1100]\ttrain-rmse:0.36214\tvalid-rmse:0.38778\n",
      "[1120]\ttrain-rmse:0.36175\tvalid-rmse:0.38764\n",
      "[1140]\ttrain-rmse:0.36135\tvalid-rmse:0.38753\n",
      "[1160]\ttrain-rmse:0.36102\tvalid-rmse:0.38746\n",
      "[1180]\ttrain-rmse:0.36067\tvalid-rmse:0.38738\n",
      "[1200]\ttrain-rmse:0.36033\tvalid-rmse:0.38730\n",
      "[1220]\ttrain-rmse:0.35991\tvalid-rmse:0.38724\n",
      "[1240]\ttrain-rmse:0.35961\tvalid-rmse:0.38719\n",
      "[1260]\ttrain-rmse:0.35926\tvalid-rmse:0.38710\n",
      "[1280]\ttrain-rmse:0.35890\tvalid-rmse:0.38701\n",
      "[1300]\ttrain-rmse:0.35855\tvalid-rmse:0.38693\n",
      "[1320]\ttrain-rmse:0.35822\tvalid-rmse:0.38686\n",
      "[1340]\ttrain-rmse:0.35781\tvalid-rmse:0.38678\n",
      "[1360]\ttrain-rmse:0.35742\tvalid-rmse:0.38671\n",
      "[1380]\ttrain-rmse:0.35718\tvalid-rmse:0.38672\n",
      "[1400]\ttrain-rmse:0.35691\tvalid-rmse:0.38671\n",
      "[1420]\ttrain-rmse:0.35665\tvalid-rmse:0.38669\n",
      "[1440]\ttrain-rmse:0.35639\tvalid-rmse:0.38663\n",
      "[1460]\ttrain-rmse:0.35604\tvalid-rmse:0.38657\n",
      "[1480]\ttrain-rmse:0.35575\tvalid-rmse:0.38655\n",
      "[1500]\ttrain-rmse:0.35545\tvalid-rmse:0.38651\n",
      "[1520]\ttrain-rmse:0.35513\tvalid-rmse:0.38647\n",
      "[1540]\ttrain-rmse:0.35483\tvalid-rmse:0.38643\n",
      "[1560]\ttrain-rmse:0.35452\tvalid-rmse:0.38640\n",
      "[1580]\ttrain-rmse:0.35424\tvalid-rmse:0.38640\n",
      "[1600]\ttrain-rmse:0.35399\tvalid-rmse:0.38634\n",
      "[1620]\ttrain-rmse:0.35375\tvalid-rmse:0.38634\n",
      "[1640]\ttrain-rmse:0.35344\tvalid-rmse:0.38630\n",
      "[1660]\ttrain-rmse:0.35322\tvalid-rmse:0.38625\n",
      "[1680]\ttrain-rmse:0.35293\tvalid-rmse:0.38619\n",
      "[1700]\ttrain-rmse:0.35268\tvalid-rmse:0.38612\n",
      "[1720]\ttrain-rmse:0.35236\tvalid-rmse:0.38605\n",
      "[1740]\ttrain-rmse:0.35210\tvalid-rmse:0.38607\n",
      "[1760]\ttrain-rmse:0.35182\tvalid-rmse:0.38606\n",
      "[1780]\ttrain-rmse:0.35161\tvalid-rmse:0.38604\n",
      "[1800]\ttrain-rmse:0.35133\tvalid-rmse:0.38596\n",
      "[1820]\ttrain-rmse:0.35106\tvalid-rmse:0.38593\n",
      "[1840]\ttrain-rmse:0.35080\tvalid-rmse:0.38593\n",
      "[1860]\ttrain-rmse:0.35054\tvalid-rmse:0.38589\n",
      "[1880]\ttrain-rmse:0.35033\tvalid-rmse:0.38586\n",
      "[1900]\ttrain-rmse:0.35007\tvalid-rmse:0.38583\n",
      "[1920]\ttrain-rmse:0.34982\tvalid-rmse:0.38582\n",
      "[1940]\ttrain-rmse:0.34960\tvalid-rmse:0.38581\n",
      "[1960]\ttrain-rmse:0.34937\tvalid-rmse:0.38578\n",
      "[1980]\ttrain-rmse:0.34914\tvalid-rmse:0.38572\n",
      "[2000]\ttrain-rmse:0.34893\tvalid-rmse:0.38572\n",
      "[2020]\ttrain-rmse:0.34873\tvalid-rmse:0.38571\n",
      "[2040]\ttrain-rmse:0.34850\tvalid-rmse:0.38568\n",
      "[2060]\ttrain-rmse:0.34825\tvalid-rmse:0.38562\n",
      "[2080]\ttrain-rmse:0.34801\tvalid-rmse:0.38562\n",
      "[2100]\ttrain-rmse:0.34781\tvalid-rmse:0.38559\n",
      "[2120]\ttrain-rmse:0.34760\tvalid-rmse:0.38558\n",
      "[2140]\ttrain-rmse:0.34737\tvalid-rmse:0.38551\n",
      "[2160]\ttrain-rmse:0.34712\tvalid-rmse:0.38547\n",
      "[2180]\ttrain-rmse:0.34686\tvalid-rmse:0.38541\n",
      "[2200]\ttrain-rmse:0.34665\tvalid-rmse:0.38541\n",
      "[2220]\ttrain-rmse:0.34642\tvalid-rmse:0.38535\n",
      "[2240]\ttrain-rmse:0.34620\tvalid-rmse:0.38533\n",
      "[2260]\ttrain-rmse:0.34598\tvalid-rmse:0.38531\n",
      "[2280]\ttrain-rmse:0.34577\tvalid-rmse:0.38529\n",
      "[2300]\ttrain-rmse:0.34557\tvalid-rmse:0.38532\n",
      "[2320]\ttrain-rmse:0.34538\tvalid-rmse:0.38531\n",
      "[2333]\ttrain-rmse:0.34526\tvalid-rmse:0.38529\n",
      "Modeling RMSE 0.38528\n"
     ]
    }
   ],
   "source": [
    "xgb_params = {}\n",
    "xgb_params[\"objective\"] = \"reg:linear\"\n",
    "xgb_params['eval_metric'] = \"rmse\"\n",
    "xgb_params[\"eta\"] = 0.05\n",
    "xgb_params[\"min_child_weight\"] = 10\n",
    "xgb_params[\"subsample\"] = 0.9\n",
    "xgb_params[\"colsample_bytree\"] = 0.7\n",
    "xgb_params[\"max_depth\"] = 5\n",
    "xgb_params['silent'] = 1\n",
    "xgb_params[\"seed\"] = 2019\n",
    "xgb_params[\"nthread\"] = -1\n",
    "xgb_params[\"lambda\"] = 2\n",
    "\n",
    "xgb_model = xgb.train(xgb_params, dtrain, 10000, watchlist, early_stopping_rounds=50,\n",
    "      maximize=False, verbose_eval=20)\n",
    "print('Modeling RMSE %.5f' % xgb_model.best_score)"
   ]
  },
  {
   "cell_type": "markdown",
   "metadata": {},
   "source": [
    "Again, you can try tweaking parameters here but Be very careful, as boosting models have a high chance of overfitting i.e. training your model so well on the training set that it performs quite poorly on unseen data. Here I would suggest playing with `colsample_bytree` and `subsample` to control overfitting.\n",
    "\n",
    "\n",
    "Now, we can investigate the importance of each feature, to understand what affects the trip duration the most significantly. Here's how XGBoost allows us to do it:"
   ]
  },
  {
   "cell_type": "code",
   "execution_count": 20,
   "metadata": {
    "scrolled": true
   },
   "outputs": [
    {
     "data": {
      "text/plain": [
       "<AxesSubplot: title={'center': 'Feature importance'}, xlabel='F score', ylabel='Features'>"
      ]
     },
     "execution_count": 20,
     "metadata": {},
     "output_type": "execute_result"
    },
    {
     "data": {
      "image/png": "[encoded data removed]",
      "text/plain": [
       "<Figure size 640x480 with 1 Axes>"
      ]
     },
     "metadata": {},
     "output_type": "display_data"
    }
   ],
   "source": [
    "xgb.plot_importance(xgb_model, max_num_features=28, height=0.7)"
   ]
  },
  {
   "cell_type": "markdown",
   "metadata": {},
   "source": [
    "So from top to bottom we see which features have the greatest effect on trip duration. It makes logical sense that the lattitude and longitude have high impact on predicting the trip duration. The further you travel, the longer it'll take. Interestingly, day of month is ranked higher here than day of week.\n",
    "\n",
    "Remember that this is one way of looking at importance of features and it only signifies how important is a variable for XGBoost while fitting the training set."
   ]
  },
  {
   "cell_type": "code",
   "execution_count": 21,
   "metadata": {
    "scrolled": false
   },
   "outputs": [
    {
     "name": "stdout",
     "output_type": "stream",
     "text": [
      "\n",
      "1 of kfold 5\n",
      "Valid RMSE: 0.39193\n",
      "\n",
      "2 of kfold 5\n",
      "Valid RMSE: 0.39248\n",
      "\n",
      "3 of kfold 5\n",
      "Valid RMSE: 0.38265\n",
      "\n",
      "4 of kfold 5\n",
      "Valid RMSE: 0.38770\n",
      "\n",
      "5 of kfold 5\n",
      "Valid RMSE: 0.38410\n"
     ]
    }
   ],
   "source": [
    "xgb_params['num_round'] = xgb_model.best_iteration\n",
    "xgb_model_final = xgb.XGBRegressor()\n",
    "xgb_scores = cv_score(xgb_model_final)"
   ]
  },
  {
   "cell_type": "markdown",
   "metadata": {},
   "source": [
    "## Averaging\n",
    "\n",
    "Bagging and boosting are 2 techniques. Now, we will cover 2 more advanced techniques.\n",
    "\n",
    "First ensemble is an averaging model. Here, we simply take a weighted average of multiple models. The general rule here is to assign higher weight to the model which is giving better performance on the validation set.\n",
    "\n",
    "I have defined a fresh function here to fit and calculate the scores from an averaged model comprising of XGBoost and Random Forest."
   ]
  },
  {
   "cell_type": "code",
   "execution_count": 22,
   "metadata": {},
   "outputs": [],
   "source": [
    "def cv_score_avg(ml_model_1, ml_model_2,w1 = 0.5, w2 = 0.5, rstate = 11,cols = df.columns):\n",
    "    i = 1\n",
    "    cv_scores = []\n",
    "    df1 = df.copy()\n",
    "    df1 = df[cols]\n",
    "    \n",
    "    kf = KFold(n_splits=5,random_state=rstate,shuffle=True)\n",
    "    for train_index,test_index in kf.split(df1,df_y):\n",
    "        print('\\n{} of kfold {}'.format(i,kf.n_splits))\n",
    "        xtr,xvl = df1.loc[train_index],df1.loc[test_index]\n",
    "        ytr,yvl = df_y[train_index],df_y[test_index]\n",
    "\n",
    "        model = ml_model_1\n",
    "        ml_model_1.fit(xtr, ytr)\n",
    "        pred_val_1 = ml_model_1.predict(xvl)\n",
    "        \n",
    "        model = ml_model_2\n",
    "        ml_model_2.fit(xtr, ytr)\n",
    "        pred_val_2 = ml_model_2.predict(xvl)\n",
    "        \n",
    "        final_pred=(pred_val_1*w1 + pred_val_2*w2)\n",
    "\n",
    "        rmse_score = sqrt(mean_squared_error(yvl, final_pred))\n",
    "        \n",
    "        sufix = \"\"\n",
    "        msg = \"\"\n",
    "        msg += \"Valid RMSE: {:.5f}\".format(rmse_score)\n",
    "        print(\"{}\".format(msg))\n",
    "        # Save scores\n",
    "        cv_scores.append(rmse_score)\n",
    "        i+=1\n",
    "    return cv_scores"
   ]
  },
  {
   "cell_type": "code",
   "execution_count": 23,
   "metadata": {
    "scrolled": true
   },
   "outputs": [
    {
     "name": "stdout",
     "output_type": "stream",
     "text": [
      "\n",
      "1 of kfold 5\n",
      "Valid RMSE: 0.40043\n",
      "\n",
      "2 of kfold 5\n",
      "Valid RMSE: 0.40160\n",
      "\n",
      "3 of kfold 5\n",
      "Valid RMSE: 0.39207\n",
      "\n",
      "4 of kfold 5\n",
      "Valid RMSE: 0.39713\n",
      "\n",
      "5 of kfold 5\n",
      "Valid RMSE: 0.39371\n"
     ]
    }
   ],
   "source": [
    "avg_scores = cv_score_avg(xgb_model_final, RandomForestRegressor(**rf_params), w1 = 0.4, w2 = 0.6)"
   ]
  },
  {
   "cell_type": "markdown",
   "metadata": {},
   "source": [
    "## Stacking\n",
    "Second ensemble is a stacked model. Mlxtend library includes code for this that does the out-of-fold predictions and later fitting the second-level model. Let's see how this works now."
   ]
  },
  {
   "cell_type": "code",
   "execution_count": 24,
   "metadata": {},
   "outputs": [],
   "source": [
    "# Model Definitions for feeding into Stacking\n",
    "xgb_model = xgb.XGBRegressor(**xgb_params)\n",
    "rf_model = RandomForestRegressor(**rf_params)\n",
    "tree_model = DecisionTreeRegressor(min_samples_leaf=25, min_samples_split=25)"
   ]
  },
  {
   "cell_type": "code",
   "execution_count": 25,
   "metadata": {},
   "outputs": [],
   "source": [
    "# Importing Stacking regressor from mlxtend\n",
    "from mlxtend.regressor import StackingCVRegressor\n",
    "\n",
    "stacked_model = StackingCVRegressor(\n",
    "    regressors=[xgb_model, rf_model],\n",
    "    meta_regressor=Ridge()\n",
    ")"
   ]
  },
  {
   "cell_type": "code",
   "execution_count": 27,
   "metadata": {
    "scrolled": false
   },
   "outputs": [
    {
     "name": "stdout",
     "output_type": "stream",
     "text": [
      "\n",
      "1 of kfold 5\n",
      "[15:49:42] WARNING: C:\\buildkite-agent\\builds\\buildkite-windows-cpu-autoscaling-group-i-07593ffd91cd9da33-1\\xgboost\\xgboost-ci-windows\\src\\objective\\regression_obj.cu:213: reg:linear is now deprecated in favor of reg:squarederror.\n",
      "[15:49:42] WARNING: C:\\buildkite-agent\\builds\\buildkite-windows-cpu-autoscaling-group-i-07593ffd91cd9da33-1\\xgboost\\xgboost-ci-windows\\src\\learner.cc:767: \n",
      "Parameters: { \"num_round\", \"silent\" } are not used.\n",
      "\n",
      "[15:50:32] WARNING: C:\\buildkite-agent\\builds\\buildkite-windows-cpu-autoscaling-group-i-07593ffd91cd9da33-1\\xgboost\\xgboost-ci-windows\\src\\objective\\regression_obj.cu:213: reg:linear is now deprecated in favor of reg:squarederror.\n",
      "[15:50:32] WARNING: C:\\buildkite-agent\\builds\\buildkite-windows-cpu-autoscaling-group-i-07593ffd91cd9da33-1\\xgboost\\xgboost-ci-windows\\src\\learner.cc:767: \n",
      "Parameters: { \"num_round\", \"silent\" } are not used.\n",
      "\n",
      "[15:51:19] WARNING: C:\\buildkite-agent\\builds\\buildkite-windows-cpu-autoscaling-group-i-07593ffd91cd9da33-1\\xgboost\\xgboost-ci-windows\\src\\objective\\regression_obj.cu:213: reg:linear is now deprecated in favor of reg:squarederror.\n",
      "[15:51:19] WARNING: C:\\buildkite-agent\\builds\\buildkite-windows-cpu-autoscaling-group-i-07593ffd91cd9da33-1\\xgboost\\xgboost-ci-windows\\src\\learner.cc:767: \n",
      "Parameters: { \"num_round\", \"silent\" } are not used.\n",
      "\n",
      "[15:52:05] WARNING: C:\\buildkite-agent\\builds\\buildkite-windows-cpu-autoscaling-group-i-07593ffd91cd9da33-1\\xgboost\\xgboost-ci-windows\\src\\objective\\regression_obj.cu:213: reg:linear is now deprecated in favor of reg:squarederror.\n",
      "[15:52:05] WARNING: C:\\buildkite-agent\\builds\\buildkite-windows-cpu-autoscaling-group-i-07593ffd91cd9da33-1\\xgboost\\xgboost-ci-windows\\src\\learner.cc:767: \n",
      "Parameters: { \"num_round\", \"silent\" } are not used.\n",
      "\n",
      "[15:52:52] WARNING: C:\\buildkite-agent\\builds\\buildkite-windows-cpu-autoscaling-group-i-07593ffd91cd9da33-1\\xgboost\\xgboost-ci-windows\\src\\objective\\regression_obj.cu:213: reg:linear is now deprecated in favor of reg:squarederror.\n",
      "[15:52:52] WARNING: C:\\buildkite-agent\\builds\\buildkite-windows-cpu-autoscaling-group-i-07593ffd91cd9da33-1\\xgboost\\xgboost-ci-windows\\src\\learner.cc:767: \n",
      "Parameters: { \"num_round\", \"silent\" } are not used.\n",
      "\n",
      "[15:58:59] WARNING: C:\\buildkite-agent\\builds\\buildkite-windows-cpu-autoscaling-group-i-07593ffd91cd9da33-1\\xgboost\\xgboost-ci-windows\\src\\objective\\regression_obj.cu:213: reg:linear is now deprecated in favor of reg:squarederror.\n",
      "[15:58:59] WARNING: C:\\buildkite-agent\\builds\\buildkite-windows-cpu-autoscaling-group-i-07593ffd91cd9da33-1\\xgboost\\xgboost-ci-windows\\src\\learner.cc:767: \n",
      "Parameters: { \"num_round\", \"silent\" } are not used.\n",
      "\n",
      "Valid RMSE: 0.41309\n",
      "\n",
      "2 of kfold 5\n",
      "[16:01:24] WARNING: C:\\buildkite-agent\\builds\\buildkite-windows-cpu-autoscaling-group-i-07593ffd91cd9da33-1\\xgboost\\xgboost-ci-windows\\src\\objective\\regression_obj.cu:213: reg:linear is now deprecated in favor of reg:squarederror.\n",
      "[16:01:24] WARNING: C:\\buildkite-agent\\builds\\buildkite-windows-cpu-autoscaling-group-i-07593ffd91cd9da33-1\\xgboost\\xgboost-ci-windows\\src\\learner.cc:767: \n",
      "Parameters: { \"num_round\", \"silent\" } are not used.\n",
      "\n",
      "[16:02:14] WARNING: C:\\buildkite-agent\\builds\\buildkite-windows-cpu-autoscaling-group-i-07593ffd91cd9da33-1\\xgboost\\xgboost-ci-windows\\src\\objective\\regression_obj.cu:213: reg:linear is now deprecated in favor of reg:squarederror.\n",
      "[16:02:14] WARNING: C:\\buildkite-agent\\builds\\buildkite-windows-cpu-autoscaling-group-i-07593ffd91cd9da33-1\\xgboost\\xgboost-ci-windows\\src\\learner.cc:767: \n",
      "Parameters: { \"num_round\", \"silent\" } are not used.\n",
      "\n",
      "[16:03:03] WARNING: C:\\buildkite-agent\\builds\\buildkite-windows-cpu-autoscaling-group-i-07593ffd91cd9da33-1\\xgboost\\xgboost-ci-windows\\src\\objective\\regression_obj.cu:213: reg:linear is now deprecated in favor of reg:squarederror.\n",
      "[16:03:03] WARNING: C:\\buildkite-agent\\builds\\buildkite-windows-cpu-autoscaling-group-i-07593ffd91cd9da33-1\\xgboost\\xgboost-ci-windows\\src\\learner.cc:767: \n",
      "Parameters: { \"num_round\", \"silent\" } are not used.\n",
      "\n",
      "[16:03:57] WARNING: C:\\buildkite-agent\\builds\\buildkite-windows-cpu-autoscaling-group-i-07593ffd91cd9da33-1\\xgboost\\xgboost-ci-windows\\src\\objective\\regression_obj.cu:213: reg:linear is now deprecated in favor of reg:squarederror.\n",
      "[16:03:57] WARNING: C:\\buildkite-agent\\builds\\buildkite-windows-cpu-autoscaling-group-i-07593ffd91cd9da33-1\\xgboost\\xgboost-ci-windows\\src\\learner.cc:767: \n",
      "Parameters: { \"num_round\", \"silent\" } are not used.\n",
      "\n",
      "[16:04:48] WARNING: C:\\buildkite-agent\\builds\\buildkite-windows-cpu-autoscaling-group-i-07593ffd91cd9da33-1\\xgboost\\xgboost-ci-windows\\src\\objective\\regression_obj.cu:213: reg:linear is now deprecated in favor of reg:squarederror.\n",
      "[16:04:48] WARNING: C:\\buildkite-agent\\builds\\buildkite-windows-cpu-autoscaling-group-i-07593ffd91cd9da33-1\\xgboost\\xgboost-ci-windows\\src\\learner.cc:767: \n",
      "Parameters: { \"num_round\", \"silent\" } are not used.\n",
      "\n",
      "[16:11:41] WARNING: C:\\buildkite-agent\\builds\\buildkite-windows-cpu-autoscaling-group-i-07593ffd91cd9da33-1\\xgboost\\xgboost-ci-windows\\src\\objective\\regression_obj.cu:213: reg:linear is now deprecated in favor of reg:squarederror.\n",
      "[16:11:41] WARNING: C:\\buildkite-agent\\builds\\buildkite-windows-cpu-autoscaling-group-i-07593ffd91cd9da33-1\\xgboost\\xgboost-ci-windows\\src\\learner.cc:767: \n",
      "Parameters: { \"num_round\", \"silent\" } are not used.\n",
      "\n",
      "Valid RMSE: 0.41473\n",
      "\n",
      "3 of kfold 5\n",
      "[16:15:00] WARNING: C:\\buildkite-agent\\builds\\buildkite-windows-cpu-autoscaling-group-i-07593ffd91cd9da33-1\\xgboost\\xgboost-ci-windows\\src\\objective\\regression_obj.cu:213: reg:linear is now deprecated in favor of reg:squarederror.\n",
      "[16:15:00] WARNING: C:\\buildkite-agent\\builds\\buildkite-windows-cpu-autoscaling-group-i-07593ffd91cd9da33-1\\xgboost\\xgboost-ci-windows\\src\\learner.cc:767: \n",
      "Parameters: { \"num_round\", \"silent\" } are not used.\n",
      "\n",
      "[16:16:09] WARNING: C:\\buildkite-agent\\builds\\buildkite-windows-cpu-autoscaling-group-i-07593ffd91cd9da33-1\\xgboost\\xgboost-ci-windows\\src\\objective\\regression_obj.cu:213: reg:linear is now deprecated in favor of reg:squarederror.\n",
      "[16:16:09] WARNING: C:\\buildkite-agent\\builds\\buildkite-windows-cpu-autoscaling-group-i-07593ffd91cd9da33-1\\xgboost\\xgboost-ci-windows\\src\\learner.cc:767: \n",
      "Parameters: { \"num_round\", \"silent\" } are not used.\n",
      "\n",
      "[16:17:20] WARNING: C:\\buildkite-agent\\builds\\buildkite-windows-cpu-autoscaling-group-i-07593ffd91cd9da33-1\\xgboost\\xgboost-ci-windows\\src\\objective\\regression_obj.cu:213: reg:linear is now deprecated in favor of reg:squarederror.\n",
      "[16:17:20] WARNING: C:\\buildkite-agent\\builds\\buildkite-windows-cpu-autoscaling-group-i-07593ffd91cd9da33-1\\xgboost\\xgboost-ci-windows\\src\\learner.cc:767: \n",
      "Parameters: { \"num_round\", \"silent\" } are not used.\n",
      "\n",
      "[16:18:10] WARNING: C:\\buildkite-agent\\builds\\buildkite-windows-cpu-autoscaling-group-i-07593ffd91cd9da33-1\\xgboost\\xgboost-ci-windows\\src\\objective\\regression_obj.cu:213: reg:linear is now deprecated in favor of reg:squarederror.\n",
      "[16:18:10] WARNING: C:\\buildkite-agent\\builds\\buildkite-windows-cpu-autoscaling-group-i-07593ffd91cd9da33-1\\xgboost\\xgboost-ci-windows\\src\\learner.cc:767: \n",
      "Parameters: { \"num_round\", \"silent\" } are not used.\n",
      "\n",
      "[16:18:59] WARNING: C:\\buildkite-agent\\builds\\buildkite-windows-cpu-autoscaling-group-i-07593ffd91cd9da33-1\\xgboost\\xgboost-ci-windows\\src\\objective\\regression_obj.cu:213: reg:linear is now deprecated in favor of reg:squarederror.\n",
      "[16:18:59] WARNING: C:\\buildkite-agent\\builds\\buildkite-windows-cpu-autoscaling-group-i-07593ffd91cd9da33-1\\xgboost\\xgboost-ci-windows\\src\\learner.cc:767: \n",
      "Parameters: { \"num_round\", \"silent\" } are not used.\n",
      "\n",
      "[16:25:43] WARNING: C:\\buildkite-agent\\builds\\buildkite-windows-cpu-autoscaling-group-i-07593ffd91cd9da33-1\\xgboost\\xgboost-ci-windows\\src\\objective\\regression_obj.cu:213: reg:linear is now deprecated in favor of reg:squarederror.\n",
      "[16:25:43] WARNING: C:\\buildkite-agent\\builds\\buildkite-windows-cpu-autoscaling-group-i-07593ffd91cd9da33-1\\xgboost\\xgboost-ci-windows\\src\\learner.cc:767: \n",
      "Parameters: { \"num_round\", \"silent\" } are not used.\n",
      "\n",
      "Valid RMSE: 0.40490\n",
      "\n",
      "4 of kfold 5\n",
      "[16:28:26] WARNING: C:\\buildkite-agent\\builds\\buildkite-windows-cpu-autoscaling-group-i-07593ffd91cd9da33-1\\xgboost\\xgboost-ci-windows\\src\\objective\\regression_obj.cu:213: reg:linear is now deprecated in favor of reg:squarederror.\n",
      "[16:28:26] WARNING: C:\\buildkite-agent\\builds\\buildkite-windows-cpu-autoscaling-group-i-07593ffd91cd9da33-1\\xgboost\\xgboost-ci-windows\\src\\learner.cc:767: \n",
      "Parameters: { \"num_round\", \"silent\" } are not used.\n",
      "\n"
     ]
    },
    {
     "name": "stdout",
     "output_type": "stream",
     "text": [
      "[16:29:28] WARNING: C:\\buildkite-agent\\builds\\buildkite-windows-cpu-autoscaling-group-i-07593ffd91cd9da33-1\\xgboost\\xgboost-ci-windows\\src\\objective\\regression_obj.cu:213: reg:linear is now deprecated in favor of reg:squarederror.\n",
      "[16:29:28] WARNING: C:\\buildkite-agent\\builds\\buildkite-windows-cpu-autoscaling-group-i-07593ffd91cd9da33-1\\xgboost\\xgboost-ci-windows\\src\\learner.cc:767: \n",
      "Parameters: { \"num_round\", \"silent\" } are not used.\n",
      "\n",
      "[16:30:30] WARNING: C:\\buildkite-agent\\builds\\buildkite-windows-cpu-autoscaling-group-i-07593ffd91cd9da33-1\\xgboost\\xgboost-ci-windows\\src\\objective\\regression_obj.cu:213: reg:linear is now deprecated in favor of reg:squarederror.\n",
      "[16:30:30] WARNING: C:\\buildkite-agent\\builds\\buildkite-windows-cpu-autoscaling-group-i-07593ffd91cd9da33-1\\xgboost\\xgboost-ci-windows\\src\\learner.cc:767: \n",
      "Parameters: { \"num_round\", \"silent\" } are not used.\n",
      "\n",
      "[16:31:30] WARNING: C:\\buildkite-agent\\builds\\buildkite-windows-cpu-autoscaling-group-i-07593ffd91cd9da33-1\\xgboost\\xgboost-ci-windows\\src\\objective\\regression_obj.cu:213: reg:linear is now deprecated in favor of reg:squarederror.\n",
      "[16:31:30] WARNING: C:\\buildkite-agent\\builds\\buildkite-windows-cpu-autoscaling-group-i-07593ffd91cd9da33-1\\xgboost\\xgboost-ci-windows\\src\\learner.cc:767: \n",
      "Parameters: { \"num_round\", \"silent\" } are not used.\n",
      "\n",
      "[16:32:26] WARNING: C:\\buildkite-agent\\builds\\buildkite-windows-cpu-autoscaling-group-i-07593ffd91cd9da33-1\\xgboost\\xgboost-ci-windows\\src\\objective\\regression_obj.cu:213: reg:linear is now deprecated in favor of reg:squarederror.\n",
      "[16:32:26] WARNING: C:\\buildkite-agent\\builds\\buildkite-windows-cpu-autoscaling-group-i-07593ffd91cd9da33-1\\xgboost\\xgboost-ci-windows\\src\\learner.cc:767: \n",
      "Parameters: { \"num_round\", \"silent\" } are not used.\n",
      "\n",
      "[16:41:00] WARNING: C:\\buildkite-agent\\builds\\buildkite-windows-cpu-autoscaling-group-i-07593ffd91cd9da33-1\\xgboost\\xgboost-ci-windows\\src\\objective\\regression_obj.cu:213: reg:linear is now deprecated in favor of reg:squarederror.\n",
      "[16:41:00] WARNING: C:\\buildkite-agent\\builds\\buildkite-windows-cpu-autoscaling-group-i-07593ffd91cd9da33-1\\xgboost\\xgboost-ci-windows\\src\\learner.cc:767: \n",
      "Parameters: { \"num_round\", \"silent\" } are not used.\n",
      "\n",
      "Valid RMSE: 0.40979\n",
      "\n",
      "5 of kfold 5\n",
      "[16:45:29] WARNING: C:\\buildkite-agent\\builds\\buildkite-windows-cpu-autoscaling-group-i-07593ffd91cd9da33-1\\xgboost\\xgboost-ci-windows\\src\\objective\\regression_obj.cu:213: reg:linear is now deprecated in favor of reg:squarederror.\n",
      "[16:45:29] WARNING: C:\\buildkite-agent\\builds\\buildkite-windows-cpu-autoscaling-group-i-07593ffd91cd9da33-1\\xgboost\\xgboost-ci-windows\\src\\learner.cc:767: \n",
      "Parameters: { \"num_round\", \"silent\" } are not used.\n",
      "\n",
      "[16:46:26] WARNING: C:\\buildkite-agent\\builds\\buildkite-windows-cpu-autoscaling-group-i-07593ffd91cd9da33-1\\xgboost\\xgboost-ci-windows\\src\\objective\\regression_obj.cu:213: reg:linear is now deprecated in favor of reg:squarederror.\n",
      "[16:46:26] WARNING: C:\\buildkite-agent\\builds\\buildkite-windows-cpu-autoscaling-group-i-07593ffd91cd9da33-1\\xgboost\\xgboost-ci-windows\\src\\learner.cc:767: \n",
      "Parameters: { \"num_round\", \"silent\" } are not used.\n",
      "\n",
      "[16:47:27] WARNING: C:\\buildkite-agent\\builds\\buildkite-windows-cpu-autoscaling-group-i-07593ffd91cd9da33-1\\xgboost\\xgboost-ci-windows\\src\\objective\\regression_obj.cu:213: reg:linear is now deprecated in favor of reg:squarederror.\n",
      "[16:47:27] WARNING: C:\\buildkite-agent\\builds\\buildkite-windows-cpu-autoscaling-group-i-07593ffd91cd9da33-1\\xgboost\\xgboost-ci-windows\\src\\learner.cc:767: \n",
      "Parameters: { \"num_round\", \"silent\" } are not used.\n",
      "\n",
      "[16:48:33] WARNING: C:\\buildkite-agent\\builds\\buildkite-windows-cpu-autoscaling-group-i-07593ffd91cd9da33-1\\xgboost\\xgboost-ci-windows\\src\\objective\\regression_obj.cu:213: reg:linear is now deprecated in favor of reg:squarederror.\n",
      "[16:48:33] WARNING: C:\\buildkite-agent\\builds\\buildkite-windows-cpu-autoscaling-group-i-07593ffd91cd9da33-1\\xgboost\\xgboost-ci-windows\\src\\learner.cc:767: \n",
      "Parameters: { \"num_round\", \"silent\" } are not used.\n",
      "\n",
      "[16:49:57] WARNING: C:\\buildkite-agent\\builds\\buildkite-windows-cpu-autoscaling-group-i-07593ffd91cd9da33-1\\xgboost\\xgboost-ci-windows\\src\\objective\\regression_obj.cu:213: reg:linear is now deprecated in favor of reg:squarederror.\n",
      "[16:49:57] WARNING: C:\\buildkite-agent\\builds\\buildkite-windows-cpu-autoscaling-group-i-07593ffd91cd9da33-1\\xgboost\\xgboost-ci-windows\\src\\learner.cc:767: \n",
      "Parameters: { \"num_round\", \"silent\" } are not used.\n",
      "\n",
      "[16:56:25] WARNING: C:\\buildkite-agent\\builds\\buildkite-windows-cpu-autoscaling-group-i-07593ffd91cd9da33-1\\xgboost\\xgboost-ci-windows\\src\\objective\\regression_obj.cu:213: reg:linear is now deprecated in favor of reg:squarederror.\n",
      "[16:56:25] WARNING: C:\\buildkite-agent\\builds\\buildkite-windows-cpu-autoscaling-group-i-07593ffd91cd9da33-1\\xgboost\\xgboost-ci-windows\\src\\learner.cc:767: \n",
      "Parameters: { \"num_round\", \"silent\" } are not used.\n",
      "\n",
      "Valid RMSE: 0.40661\n"
     ]
    }
   ],
   "source": [
    "stacking_scores = cv_score(stacked_model)"
   ]
  },
  {
   "cell_type": "code",
   "execution_count": 28,
   "metadata": {},
   "outputs": [
    {
     "data": {
      "text/plain": [
       "<AxesSubplot: >"
      ]
     },
     "execution_count": 28,
     "metadata": {},
     "output_type": "execute_result"
    },
    {
     "data": {
      "image/png": "[encoded data removed]",
      "text/plain": [
       "<Figure size 640x480 with 1 Axes>"
      ]
     },
     "metadata": {},
     "output_type": "display_data"
    }
   ],
   "source": [
    "results_df = pd.DataFrame({'RF':rf_scores, 'XGB': xgb_scores, 'Average': avg_scores, 'Stacking':stacking_scores})\n",
    "results_df.plot(y=[\"RF\", \"XGB\",\"Average\",\"Stacking\"], kind=\"bar\")"
   ]
  },
  {
   "cell_type": "markdown",
   "metadata": {},
   "source": [
    "Stacking does give us the best performance out of all ensemble techniques as is clear from the plot above. However, averaging did not perform much better and this is due to the difference in performance of RF and XGBoost. Tweaking some hyperparameters to make RF better and ultimately create new weighted ensemble can give better perfomance. This is left as an exercise for the students."
   ]
  },
  {
   "cell_type": "markdown",
   "metadata": {},
   "source": [
    "### What next?\n",
    "\n",
    "When it comes to machine learning and model building. There are tons of experiments and iterations that can be done. Here, we have tried to cover some of the best practices for approaching a data science and predictive analytics problem. Going forward there are many things students can go ahead and try to further improve their models:\n",
    "\n",
    "* Add weather features\n",
    "* Add traffic density features\n",
    "* Add Public Holidays\n",
    "* Try more boosting based techniques\n",
    "* Tune Hyperparameters to improve results"
   ]
  }
 ],
 "metadata": {
  "kernelspec": {
   "display_name": "Python 3 (ipykernel)",
   "language": "python",
   "name": "python3"
  },
  "language_info": {
   "codemirror_mode": {
    "name": "ipython",
    "version": 3
   },
   "file_extension": ".py",
   "mimetype": "text/x-python",
   "name": "python",
   "nbconvert_exporter": "python",
   "pygments_lexer": "ipython3",
   "version": "3.11.1"
  }
 },
 "nbformat": 4,
 "nbformat_minor": 2
}
